{
  "cells": [
    {
      "cell_type": "markdown",
      "metadata": {
        "toc": true,
        "id": "T6tWOED2iKLg"
      },
      "source": [
        "<h1>Содержание<span class=\"tocSkip\"></span></h1>\n",
        "<div class=\"toc\"><ul class=\"toc-item\"><li><span><a href=\"#Подготовка-данных\" data-toc-modified-id=\"Подготовка-данных-1\"><span class=\"toc-item-num\">1&nbsp;&nbsp;</span>Подготовка данных</a></span></li><li><span><a href=\"#Исследование-задачи\" data-toc-modified-id=\"Исследование-задачи-2\"><span class=\"toc-item-num\">2&nbsp;&nbsp;</span>Исследование задачи</a></span><ul class=\"toc-item\"><li><span><a href=\"#Модель-логистическая-регрессия\" data-toc-modified-id=\"Модель-логистическая-регрессия-2.1\"><span class=\"toc-item-num\">2.1&nbsp;&nbsp;</span>Модель логистическая регрессия</a></span></li><li><span><a href=\"#Модель-случайный-лес\" data-toc-modified-id=\"Модель-случайный-лес-2.2\"><span class=\"toc-item-num\">2.2&nbsp;&nbsp;</span>Модель случайный лес</a></span></li><li><span><a href=\"#Модель-дерево-решений\" data-toc-modified-id=\"Модель-дерево-решений-2.3\"><span class=\"toc-item-num\">2.3&nbsp;&nbsp;</span>Модель дерево решений</a></span></li></ul></li><li><span><a href=\"#Борьба-с-дисбалансом\" data-toc-modified-id=\"Борьба-с-дисбалансом-3\"><span class=\"toc-item-num\">3&nbsp;&nbsp;</span>Борьба с дисбалансом</a></span></li><li><span><a href=\"#Тестирование-модели\" data-toc-modified-id=\"Тестирование-модели-4\"><span class=\"toc-item-num\">4&nbsp;&nbsp;</span>Тестирование модели</a></span></li><li><span><a href=\"#Чек-лист-готовности-проекта\" data-toc-modified-id=\"Чек-лист-готовности-проекта-5\"><span class=\"toc-item-num\">5&nbsp;&nbsp;</span>Чек-лист готовности проекта</a></span></li></ul></div>"
      ]
    },
    {
      "cell_type": "markdown",
      "metadata": {
        "id": "tpg-YCnriKLo"
      },
      "source": [
        "# Отток клиентов"
      ]
    },
    {
      "cell_type": "markdown",
      "metadata": {
        "id": "Pw6_jSbziKLr"
      },
      "source": [
        "Из «Бета-Банка» стали уходить клиенты. Каждый месяц. Немного, но заметно. Банковские маркетологи посчитали: сохранять текущих клиентов дешевле, чем привлекать новых.\n",
        "\n",
        "Нужно спрогнозировать, уйдёт клиент из банка в ближайшее время или нет. Вам предоставлены исторические данные о поведении клиентов и расторжении договоров с банком. \n",
        "\n",
        "Постройте модель с предельно большим значением *F1*-меры. Чтобы сдать проект успешно, нужно довести метрику до 0.59. Проверьте *F1*-меру на тестовой выборке самостоятельно.\n",
        "\n",
        "Дополнительно измеряйте *AUC-ROC*, сравнивайте её значение с *F1*-мерой.\n",
        "\n",
        "Источник данных: [https://www.kaggle.com/barelydedicated/bank-customer-churn-modeling](https://www.kaggle.com/barelydedicated/bank-customer-churn-modeling)"
      ]
    },
    {
      "cell_type": "code",
      "execution_count": null,
      "metadata": {
        "id": "-lsd_AAfiKLu"
      },
      "outputs": [],
      "source": [
        "import pandas as pd\n",
        "import matplotlib.pyplot as plt\n",
        "import seaborn as sns\n",
        "import numpy as np\n",
        "import itertools \n",
        "\n",
        "from sklearn.preprocessing import StandardScaler\n",
        "from sklearn.utils import shuffle\n",
        "\n",
        "from sklearn.model_selection import train_test_split                                     \n",
        "from sklearn.linear_model import LogisticRegression\n",
        "from sklearn.ensemble import RandomForestClassifier\n",
        "from sklearn.tree import DecisionTreeClassifier\n",
        "\n",
        "from sklearn.metrics import precision_recall_curve,\n",
        "                            roc_curve, \n",
        "                            auc, \n",
        "                            roc_auc_score,\n",
        "                            f1_score,\n",
        "                            accuracy_score"
      ]
    },
    {
      "cell_type": "markdown",
      "metadata": {
        "id": "edS76KwliKL1"
      },
      "source": [
        "## Подготовка данных"
      ]
    },
    {
      "cell_type": "code",
      "execution_count": null,
      "metadata": {
        "id": "l0nNq8YWiKL2"
      },
      "outputs": [],
      "source": [
        "data = pd.read_csv('/datasets/Churn.csv')"
      ]
    },
    {
      "cell_type": "code",
      "execution_count": null,
      "metadata": {
        "id": "crIgUmstiKL5",
        "outputId": "ef21c9c2-c50b-4d8c-b3b1-a8e39caa0a12"
      },
      "outputs": [
        {
          "data": {
            "text/html": [
              "<div>\n",
              "<style scoped>\n",
              "    .dataframe tbody tr th:only-of-type {\n",
              "        vertical-align: middle;\n",
              "    }\n",
              "\n",
              "    .dataframe tbody tr th {\n",
              "        vertical-align: top;\n",
              "    }\n",
              "\n",
              "    .dataframe thead th {\n",
              "        text-align: right;\n",
              "    }\n",
              "</style>\n",
              "<table border=\"1\" class=\"dataframe\">\n",
              "  <thead>\n",
              "    <tr style=\"text-align: right;\">\n",
              "      <th></th>\n",
              "      <th>RowNumber</th>\n",
              "      <th>CustomerId</th>\n",
              "      <th>Surname</th>\n",
              "      <th>CreditScore</th>\n",
              "      <th>Geography</th>\n",
              "      <th>Gender</th>\n",
              "      <th>Age</th>\n",
              "      <th>Tenure</th>\n",
              "      <th>Balance</th>\n",
              "      <th>NumOfProducts</th>\n",
              "      <th>HasCrCard</th>\n",
              "      <th>IsActiveMember</th>\n",
              "      <th>EstimatedSalary</th>\n",
              "      <th>Exited</th>\n",
              "    </tr>\n",
              "  </thead>\n",
              "  <tbody>\n",
              "    <tr>\n",
              "      <th>0</th>\n",
              "      <td>1</td>\n",
              "      <td>15634602</td>\n",
              "      <td>Hargrave</td>\n",
              "      <td>619</td>\n",
              "      <td>France</td>\n",
              "      <td>Female</td>\n",
              "      <td>42</td>\n",
              "      <td>2.0</td>\n",
              "      <td>0.00</td>\n",
              "      <td>1</td>\n",
              "      <td>1</td>\n",
              "      <td>1</td>\n",
              "      <td>101348.88</td>\n",
              "      <td>1</td>\n",
              "    </tr>\n",
              "    <tr>\n",
              "      <th>1</th>\n",
              "      <td>2</td>\n",
              "      <td>15647311</td>\n",
              "      <td>Hill</td>\n",
              "      <td>608</td>\n",
              "      <td>Spain</td>\n",
              "      <td>Female</td>\n",
              "      <td>41</td>\n",
              "      <td>1.0</td>\n",
              "      <td>83807.86</td>\n",
              "      <td>1</td>\n",
              "      <td>0</td>\n",
              "      <td>1</td>\n",
              "      <td>112542.58</td>\n",
              "      <td>0</td>\n",
              "    </tr>\n",
              "    <tr>\n",
              "      <th>2</th>\n",
              "      <td>3</td>\n",
              "      <td>15619304</td>\n",
              "      <td>Onio</td>\n",
              "      <td>502</td>\n",
              "      <td>France</td>\n",
              "      <td>Female</td>\n",
              "      <td>42</td>\n",
              "      <td>8.0</td>\n",
              "      <td>159660.80</td>\n",
              "      <td>3</td>\n",
              "      <td>1</td>\n",
              "      <td>0</td>\n",
              "      <td>113931.57</td>\n",
              "      <td>1</td>\n",
              "    </tr>\n",
              "    <tr>\n",
              "      <th>3</th>\n",
              "      <td>4</td>\n",
              "      <td>15701354</td>\n",
              "      <td>Boni</td>\n",
              "      <td>699</td>\n",
              "      <td>France</td>\n",
              "      <td>Female</td>\n",
              "      <td>39</td>\n",
              "      <td>1.0</td>\n",
              "      <td>0.00</td>\n",
              "      <td>2</td>\n",
              "      <td>0</td>\n",
              "      <td>0</td>\n",
              "      <td>93826.63</td>\n",
              "      <td>0</td>\n",
              "    </tr>\n",
              "    <tr>\n",
              "      <th>4</th>\n",
              "      <td>5</td>\n",
              "      <td>15737888</td>\n",
              "      <td>Mitchell</td>\n",
              "      <td>850</td>\n",
              "      <td>Spain</td>\n",
              "      <td>Female</td>\n",
              "      <td>43</td>\n",
              "      <td>2.0</td>\n",
              "      <td>125510.82</td>\n",
              "      <td>1</td>\n",
              "      <td>1</td>\n",
              "      <td>1</td>\n",
              "      <td>79084.10</td>\n",
              "      <td>0</td>\n",
              "    </tr>\n",
              "    <tr>\n",
              "      <th>...</th>\n",
              "      <td>...</td>\n",
              "      <td>...</td>\n",
              "      <td>...</td>\n",
              "      <td>...</td>\n",
              "      <td>...</td>\n",
              "      <td>...</td>\n",
              "      <td>...</td>\n",
              "      <td>...</td>\n",
              "      <td>...</td>\n",
              "      <td>...</td>\n",
              "      <td>...</td>\n",
              "      <td>...</td>\n",
              "      <td>...</td>\n",
              "      <td>...</td>\n",
              "    </tr>\n",
              "    <tr>\n",
              "      <th>9995</th>\n",
              "      <td>9996</td>\n",
              "      <td>15606229</td>\n",
              "      <td>Obijiaku</td>\n",
              "      <td>771</td>\n",
              "      <td>France</td>\n",
              "      <td>Male</td>\n",
              "      <td>39</td>\n",
              "      <td>5.0</td>\n",
              "      <td>0.00</td>\n",
              "      <td>2</td>\n",
              "      <td>1</td>\n",
              "      <td>0</td>\n",
              "      <td>96270.64</td>\n",
              "      <td>0</td>\n",
              "    </tr>\n",
              "    <tr>\n",
              "      <th>9996</th>\n",
              "      <td>9997</td>\n",
              "      <td>15569892</td>\n",
              "      <td>Johnstone</td>\n",
              "      <td>516</td>\n",
              "      <td>France</td>\n",
              "      <td>Male</td>\n",
              "      <td>35</td>\n",
              "      <td>10.0</td>\n",
              "      <td>57369.61</td>\n",
              "      <td>1</td>\n",
              "      <td>1</td>\n",
              "      <td>1</td>\n",
              "      <td>101699.77</td>\n",
              "      <td>0</td>\n",
              "    </tr>\n",
              "    <tr>\n",
              "      <th>9997</th>\n",
              "      <td>9998</td>\n",
              "      <td>15584532</td>\n",
              "      <td>Liu</td>\n",
              "      <td>709</td>\n",
              "      <td>France</td>\n",
              "      <td>Female</td>\n",
              "      <td>36</td>\n",
              "      <td>7.0</td>\n",
              "      <td>0.00</td>\n",
              "      <td>1</td>\n",
              "      <td>0</td>\n",
              "      <td>1</td>\n",
              "      <td>42085.58</td>\n",
              "      <td>1</td>\n",
              "    </tr>\n",
              "    <tr>\n",
              "      <th>9998</th>\n",
              "      <td>9999</td>\n",
              "      <td>15682355</td>\n",
              "      <td>Sabbatini</td>\n",
              "      <td>772</td>\n",
              "      <td>Germany</td>\n",
              "      <td>Male</td>\n",
              "      <td>42</td>\n",
              "      <td>3.0</td>\n",
              "      <td>75075.31</td>\n",
              "      <td>2</td>\n",
              "      <td>1</td>\n",
              "      <td>0</td>\n",
              "      <td>92888.52</td>\n",
              "      <td>1</td>\n",
              "    </tr>\n",
              "    <tr>\n",
              "      <th>9999</th>\n",
              "      <td>10000</td>\n",
              "      <td>15628319</td>\n",
              "      <td>Walker</td>\n",
              "      <td>792</td>\n",
              "      <td>France</td>\n",
              "      <td>Female</td>\n",
              "      <td>28</td>\n",
              "      <td>NaN</td>\n",
              "      <td>130142.79</td>\n",
              "      <td>1</td>\n",
              "      <td>1</td>\n",
              "      <td>0</td>\n",
              "      <td>38190.78</td>\n",
              "      <td>0</td>\n",
              "    </tr>\n",
              "  </tbody>\n",
              "</table>\n",
              "<p>10000 rows × 14 columns</p>\n",
              "</div>"
            ],
            "text/plain": [
              "      RowNumber  CustomerId    Surname  CreditScore Geography  Gender  Age  \\\n",
              "0             1    15634602   Hargrave          619    France  Female   42   \n",
              "1             2    15647311       Hill          608     Spain  Female   41   \n",
              "2             3    15619304       Onio          502    France  Female   42   \n",
              "3             4    15701354       Boni          699    France  Female   39   \n",
              "4             5    15737888   Mitchell          850     Spain  Female   43   \n",
              "...         ...         ...        ...          ...       ...     ...  ...   \n",
              "9995       9996    15606229   Obijiaku          771    France    Male   39   \n",
              "9996       9997    15569892  Johnstone          516    France    Male   35   \n",
              "9997       9998    15584532        Liu          709    France  Female   36   \n",
              "9998       9999    15682355  Sabbatini          772   Germany    Male   42   \n",
              "9999      10000    15628319     Walker          792    France  Female   28   \n",
              "\n",
              "      Tenure    Balance  NumOfProducts  HasCrCard  IsActiveMember  \\\n",
              "0        2.0       0.00              1          1               1   \n",
              "1        1.0   83807.86              1          0               1   \n",
              "2        8.0  159660.80              3          1               0   \n",
              "3        1.0       0.00              2          0               0   \n",
              "4        2.0  125510.82              1          1               1   \n",
              "...      ...        ...            ...        ...             ...   \n",
              "9995     5.0       0.00              2          1               0   \n",
              "9996    10.0   57369.61              1          1               1   \n",
              "9997     7.0       0.00              1          0               1   \n",
              "9998     3.0   75075.31              2          1               0   \n",
              "9999     NaN  130142.79              1          1               0   \n",
              "\n",
              "      EstimatedSalary  Exited  \n",
              "0           101348.88       1  \n",
              "1           112542.58       0  \n",
              "2           113931.57       1  \n",
              "3            93826.63       0  \n",
              "4            79084.10       0  \n",
              "...               ...     ...  \n",
              "9995         96270.64       0  \n",
              "9996        101699.77       0  \n",
              "9997         42085.58       1  \n",
              "9998         92888.52       1  \n",
              "9999         38190.78       0  \n",
              "\n",
              "[10000 rows x 14 columns]"
            ]
          },
          "execution_count": 3,
          "metadata": {},
          "output_type": "execute_result"
        }
      ],
      "source": [
        "data"
      ]
    },
    {
      "cell_type": "markdown",
      "metadata": {
        "id": "4qs50gMhiKL8"
      },
      "source": [
        "Столбец RowNumber показывает номера строк, но по умолчанию у нас уже есть такой столбец, поэтому можно удалить его. Также удалим столбец с фамилиями, так как при дальнейшей стандартизации данных он будет очень мешать."
      ]
    },
    {
      "cell_type": "code",
      "execution_count": null,
      "metadata": {
        "id": "CpVAeNMGiKL-"
      },
      "outputs": [],
      "source": [
        "data = data.drop(['RowNumber','Surname','CustomerId'], axis=1)"
      ]
    },
    {
      "cell_type": "code",
      "execution_count": null,
      "metadata": {
        "id": "SjXicEHViKMA",
        "outputId": "0dc3aecc-25bc-4f2e-83e5-3bfc67c64124"
      },
      "outputs": [
        {
          "name": "stdout",
          "output_type": "stream",
          "text": [
            "<class 'pandas.core.frame.DataFrame'>\n",
            "RangeIndex: 10000 entries, 0 to 9999\n",
            "Data columns (total 11 columns):\n",
            " #   Column           Non-Null Count  Dtype  \n",
            "---  ------           --------------  -----  \n",
            " 0   CreditScore      10000 non-null  int64  \n",
            " 1   Geography        10000 non-null  object \n",
            " 2   Gender           10000 non-null  object \n",
            " 3   Age              10000 non-null  int64  \n",
            " 4   Tenure           9091 non-null   float64\n",
            " 5   Balance          10000 non-null  float64\n",
            " 6   NumOfProducts    10000 non-null  int64  \n",
            " 7   HasCrCard        10000 non-null  int64  \n",
            " 8   IsActiveMember   10000 non-null  int64  \n",
            " 9   EstimatedSalary  10000 non-null  float64\n",
            " 10  Exited           10000 non-null  int64  \n",
            "dtypes: float64(3), int64(6), object(2)\n",
            "memory usage: 859.5+ KB\n"
          ]
        }
      ],
      "source": [
        "data.info()"
      ]
    },
    {
      "cell_type": "code",
      "execution_count": null,
      "metadata": {
        "id": "-8feQUt_iKMB",
        "outputId": "10dcadd6-b53a-4148-99c0-5ad5a64841fd"
      },
      "outputs": [
        {
          "data": {
            "text/html": [
              "<div>\n",
              "<style scoped>\n",
              "    .dataframe tbody tr th:only-of-type {\n",
              "        vertical-align: middle;\n",
              "    }\n",
              "\n",
              "    .dataframe tbody tr th {\n",
              "        vertical-align: top;\n",
              "    }\n",
              "\n",
              "    .dataframe thead th {\n",
              "        text-align: right;\n",
              "    }\n",
              "</style>\n",
              "<table border=\"1\" class=\"dataframe\">\n",
              "  <thead>\n",
              "    <tr style=\"text-align: right;\">\n",
              "      <th></th>\n",
              "      <th>CreditScore</th>\n",
              "      <th>Age</th>\n",
              "      <th>Tenure</th>\n",
              "      <th>Balance</th>\n",
              "      <th>NumOfProducts</th>\n",
              "      <th>HasCrCard</th>\n",
              "      <th>IsActiveMember</th>\n",
              "      <th>EstimatedSalary</th>\n",
              "      <th>Exited</th>\n",
              "    </tr>\n",
              "  </thead>\n",
              "  <tbody>\n",
              "    <tr>\n",
              "      <th>count</th>\n",
              "      <td>10000.000000</td>\n",
              "      <td>10000.000000</td>\n",
              "      <td>9091.000000</td>\n",
              "      <td>10000.000000</td>\n",
              "      <td>10000.000000</td>\n",
              "      <td>10000.00000</td>\n",
              "      <td>10000.000000</td>\n",
              "      <td>10000.000000</td>\n",
              "      <td>10000.000000</td>\n",
              "    </tr>\n",
              "    <tr>\n",
              "      <th>mean</th>\n",
              "      <td>650.528800</td>\n",
              "      <td>38.921800</td>\n",
              "      <td>4.997690</td>\n",
              "      <td>76485.889288</td>\n",
              "      <td>1.530200</td>\n",
              "      <td>0.70550</td>\n",
              "      <td>0.515100</td>\n",
              "      <td>100090.239881</td>\n",
              "      <td>0.203700</td>\n",
              "    </tr>\n",
              "    <tr>\n",
              "      <th>std</th>\n",
              "      <td>96.653299</td>\n",
              "      <td>10.487806</td>\n",
              "      <td>2.894723</td>\n",
              "      <td>62397.405202</td>\n",
              "      <td>0.581654</td>\n",
              "      <td>0.45584</td>\n",
              "      <td>0.499797</td>\n",
              "      <td>57510.492818</td>\n",
              "      <td>0.402769</td>\n",
              "    </tr>\n",
              "    <tr>\n",
              "      <th>min</th>\n",
              "      <td>350.000000</td>\n",
              "      <td>18.000000</td>\n",
              "      <td>0.000000</td>\n",
              "      <td>0.000000</td>\n",
              "      <td>1.000000</td>\n",
              "      <td>0.00000</td>\n",
              "      <td>0.000000</td>\n",
              "      <td>11.580000</td>\n",
              "      <td>0.000000</td>\n",
              "    </tr>\n",
              "    <tr>\n",
              "      <th>25%</th>\n",
              "      <td>584.000000</td>\n",
              "      <td>32.000000</td>\n",
              "      <td>2.000000</td>\n",
              "      <td>0.000000</td>\n",
              "      <td>1.000000</td>\n",
              "      <td>0.00000</td>\n",
              "      <td>0.000000</td>\n",
              "      <td>51002.110000</td>\n",
              "      <td>0.000000</td>\n",
              "    </tr>\n",
              "    <tr>\n",
              "      <th>50%</th>\n",
              "      <td>652.000000</td>\n",
              "      <td>37.000000</td>\n",
              "      <td>5.000000</td>\n",
              "      <td>97198.540000</td>\n",
              "      <td>1.000000</td>\n",
              "      <td>1.00000</td>\n",
              "      <td>1.000000</td>\n",
              "      <td>100193.915000</td>\n",
              "      <td>0.000000</td>\n",
              "    </tr>\n",
              "    <tr>\n",
              "      <th>75%</th>\n",
              "      <td>718.000000</td>\n",
              "      <td>44.000000</td>\n",
              "      <td>7.000000</td>\n",
              "      <td>127644.240000</td>\n",
              "      <td>2.000000</td>\n",
              "      <td>1.00000</td>\n",
              "      <td>1.000000</td>\n",
              "      <td>149388.247500</td>\n",
              "      <td>0.000000</td>\n",
              "    </tr>\n",
              "    <tr>\n",
              "      <th>max</th>\n",
              "      <td>850.000000</td>\n",
              "      <td>92.000000</td>\n",
              "      <td>10.000000</td>\n",
              "      <td>250898.090000</td>\n",
              "      <td>4.000000</td>\n",
              "      <td>1.00000</td>\n",
              "      <td>1.000000</td>\n",
              "      <td>199992.480000</td>\n",
              "      <td>1.000000</td>\n",
              "    </tr>\n",
              "  </tbody>\n",
              "</table>\n",
              "</div>"
            ],
            "text/plain": [
              "        CreditScore           Age       Tenure        Balance  NumOfProducts  \\\n",
              "count  10000.000000  10000.000000  9091.000000   10000.000000   10000.000000   \n",
              "mean     650.528800     38.921800     4.997690   76485.889288       1.530200   \n",
              "std       96.653299     10.487806     2.894723   62397.405202       0.581654   \n",
              "min      350.000000     18.000000     0.000000       0.000000       1.000000   \n",
              "25%      584.000000     32.000000     2.000000       0.000000       1.000000   \n",
              "50%      652.000000     37.000000     5.000000   97198.540000       1.000000   \n",
              "75%      718.000000     44.000000     7.000000  127644.240000       2.000000   \n",
              "max      850.000000     92.000000    10.000000  250898.090000       4.000000   \n",
              "\n",
              "         HasCrCard  IsActiveMember  EstimatedSalary        Exited  \n",
              "count  10000.00000    10000.000000     10000.000000  10000.000000  \n",
              "mean       0.70550        0.515100    100090.239881      0.203700  \n",
              "std        0.45584        0.499797     57510.492818      0.402769  \n",
              "min        0.00000        0.000000        11.580000      0.000000  \n",
              "25%        0.00000        0.000000     51002.110000      0.000000  \n",
              "50%        1.00000        1.000000    100193.915000      0.000000  \n",
              "75%        1.00000        1.000000    149388.247500      0.000000  \n",
              "max        1.00000        1.000000    199992.480000      1.000000  "
            ]
          },
          "execution_count": 6,
          "metadata": {},
          "output_type": "execute_result"
        }
      ],
      "source": [
        "data.describe()"
      ]
    },
    {
      "cell_type": "code",
      "execution_count": null,
      "metadata": {
        "id": "JuqmCIMdiKMD",
        "outputId": "14083f1c-71d0-4ee8-e3d0-271630a72ccf"
      },
      "outputs": [
        {
          "data": {
            "text/plain": [
              "CreditScore          0\n",
              "Geography            0\n",
              "Gender               0\n",
              "Age                  0\n",
              "Tenure             909\n",
              "Balance              0\n",
              "NumOfProducts        0\n",
              "HasCrCard            0\n",
              "IsActiveMember       0\n",
              "EstimatedSalary      0\n",
              "Exited               0\n",
              "dtype: int64"
            ]
          },
          "execution_count": 7,
          "metadata": {},
          "output_type": "execute_result"
        }
      ],
      "source": [
        "data.isna().sum()"
      ]
    },
    {
      "cell_type": "markdown",
      "metadata": {
        "id": "Cfgh2_n_iKMF"
      },
      "source": [
        "В столбце Tenure большое количество пропущенных значений, этот столбец обозначает сколько лет человек является клиентом банка. Заполним пропуски медианным значением для дальнейшей работы с этим столбцом."
      ]
    },
    {
      "cell_type": "code",
      "execution_count": null,
      "metadata": {
        "id": "vGdSJUm0iKMG"
      },
      "outputs": [],
      "source": [
        "data.loc[data['Tenure'].isna(), 'Tenure'] = data['Tenure'].median()"
      ]
    },
    {
      "cell_type": "markdown",
      "metadata": {
        "id": "gTKl_0l8iKMI"
      },
      "source": [
        "Данные готовы к дальнейшему делению и подготовке к исследованию. Таблица состоит из 10000 строк и 13 колонок. Все пропуски устранены. Целевой признак Exited — факт ухода клиента находится в последнем столбце."
      ]
    },
    {
      "cell_type": "markdown",
      "metadata": {
        "id": "H4TNS4QgiKMl"
      },
      "source": [
        "## Исследование задачи"
      ]
    },
    {
      "cell_type": "markdown",
      "metadata": {
        "id": "hG3wysADiKMl"
      },
      "source": [
        "Сначала нужно преобразовать категорийные признаки в численные. Сделаем это с помощью прямого кодирования OHE."
      ]
    },
    {
      "cell_type": "code",
      "execution_count": null,
      "metadata": {
        "id": "ot481T5viKMm"
      },
      "outputs": [],
      "source": [
        "data = pd.get_dummies(data, drop_first=True)"
      ]
    },
    {
      "cell_type": "markdown",
      "metadata": {
        "id": "hHprifSpiKMr"
      },
      "source": [
        "Теперь масштабируем признаки с помощью метода стандартизации StandardScaler. "
      ]
    },
    {
      "cell_type": "code",
      "execution_count": null,
      "metadata": {
        "id": "jcJd2fniiKNH",
        "outputId": "ad95c709-983f-40dc-8510-f01750b3a8a0"
      },
      "outputs": [
        {
          "data": {
            "text/html": [
              "<div>\n",
              "<style scoped>\n",
              "    .dataframe tbody tr th:only-of-type {\n",
              "        vertical-align: middle;\n",
              "    }\n",
              "\n",
              "    .dataframe tbody tr th {\n",
              "        vertical-align: top;\n",
              "    }\n",
              "\n",
              "    .dataframe thead th {\n",
              "        text-align: right;\n",
              "    }\n",
              "</style>\n",
              "<table border=\"1\" class=\"dataframe\">\n",
              "  <thead>\n",
              "    <tr style=\"text-align: right;\">\n",
              "      <th></th>\n",
              "      <th>CreditScore</th>\n",
              "      <th>Age</th>\n",
              "      <th>Tenure</th>\n",
              "      <th>Balance</th>\n",
              "      <th>NumOfProducts</th>\n",
              "      <th>HasCrCard</th>\n",
              "      <th>IsActiveMember</th>\n",
              "      <th>EstimatedSalary</th>\n",
              "      <th>Exited</th>\n",
              "      <th>Geography_Germany</th>\n",
              "      <th>Geography_Spain</th>\n",
              "      <th>Gender_Male</th>\n",
              "    </tr>\n",
              "  </thead>\n",
              "  <tbody>\n",
              "    <tr>\n",
              "      <th>0</th>\n",
              "      <td>619</td>\n",
              "      <td>42</td>\n",
              "      <td>2.0</td>\n",
              "      <td>0.00</td>\n",
              "      <td>1</td>\n",
              "      <td>1</td>\n",
              "      <td>1</td>\n",
              "      <td>101348.88</td>\n",
              "      <td>1</td>\n",
              "      <td>0</td>\n",
              "      <td>0</td>\n",
              "      <td>0</td>\n",
              "    </tr>\n",
              "    <tr>\n",
              "      <th>1</th>\n",
              "      <td>608</td>\n",
              "      <td>41</td>\n",
              "      <td>1.0</td>\n",
              "      <td>83807.86</td>\n",
              "      <td>1</td>\n",
              "      <td>0</td>\n",
              "      <td>1</td>\n",
              "      <td>112542.58</td>\n",
              "      <td>0</td>\n",
              "      <td>0</td>\n",
              "      <td>1</td>\n",
              "      <td>0</td>\n",
              "    </tr>\n",
              "    <tr>\n",
              "      <th>2</th>\n",
              "      <td>502</td>\n",
              "      <td>42</td>\n",
              "      <td>8.0</td>\n",
              "      <td>159660.80</td>\n",
              "      <td>3</td>\n",
              "      <td>1</td>\n",
              "      <td>0</td>\n",
              "      <td>113931.57</td>\n",
              "      <td>1</td>\n",
              "      <td>0</td>\n",
              "      <td>0</td>\n",
              "      <td>0</td>\n",
              "    </tr>\n",
              "    <tr>\n",
              "      <th>3</th>\n",
              "      <td>699</td>\n",
              "      <td>39</td>\n",
              "      <td>1.0</td>\n",
              "      <td>0.00</td>\n",
              "      <td>2</td>\n",
              "      <td>0</td>\n",
              "      <td>0</td>\n",
              "      <td>93826.63</td>\n",
              "      <td>0</td>\n",
              "      <td>0</td>\n",
              "      <td>0</td>\n",
              "      <td>0</td>\n",
              "    </tr>\n",
              "    <tr>\n",
              "      <th>4</th>\n",
              "      <td>850</td>\n",
              "      <td>43</td>\n",
              "      <td>2.0</td>\n",
              "      <td>125510.82</td>\n",
              "      <td>1</td>\n",
              "      <td>1</td>\n",
              "      <td>1</td>\n",
              "      <td>79084.10</td>\n",
              "      <td>0</td>\n",
              "      <td>0</td>\n",
              "      <td>1</td>\n",
              "      <td>0</td>\n",
              "    </tr>\n",
              "    <tr>\n",
              "      <th>...</th>\n",
              "      <td>...</td>\n",
              "      <td>...</td>\n",
              "      <td>...</td>\n",
              "      <td>...</td>\n",
              "      <td>...</td>\n",
              "      <td>...</td>\n",
              "      <td>...</td>\n",
              "      <td>...</td>\n",
              "      <td>...</td>\n",
              "      <td>...</td>\n",
              "      <td>...</td>\n",
              "      <td>...</td>\n",
              "    </tr>\n",
              "    <tr>\n",
              "      <th>9995</th>\n",
              "      <td>771</td>\n",
              "      <td>39</td>\n",
              "      <td>5.0</td>\n",
              "      <td>0.00</td>\n",
              "      <td>2</td>\n",
              "      <td>1</td>\n",
              "      <td>0</td>\n",
              "      <td>96270.64</td>\n",
              "      <td>0</td>\n",
              "      <td>0</td>\n",
              "      <td>0</td>\n",
              "      <td>1</td>\n",
              "    </tr>\n",
              "    <tr>\n",
              "      <th>9996</th>\n",
              "      <td>516</td>\n",
              "      <td>35</td>\n",
              "      <td>10.0</td>\n",
              "      <td>57369.61</td>\n",
              "      <td>1</td>\n",
              "      <td>1</td>\n",
              "      <td>1</td>\n",
              "      <td>101699.77</td>\n",
              "      <td>0</td>\n",
              "      <td>0</td>\n",
              "      <td>0</td>\n",
              "      <td>1</td>\n",
              "    </tr>\n",
              "    <tr>\n",
              "      <th>9997</th>\n",
              "      <td>709</td>\n",
              "      <td>36</td>\n",
              "      <td>7.0</td>\n",
              "      <td>0.00</td>\n",
              "      <td>1</td>\n",
              "      <td>0</td>\n",
              "      <td>1</td>\n",
              "      <td>42085.58</td>\n",
              "      <td>1</td>\n",
              "      <td>0</td>\n",
              "      <td>0</td>\n",
              "      <td>0</td>\n",
              "    </tr>\n",
              "    <tr>\n",
              "      <th>9998</th>\n",
              "      <td>772</td>\n",
              "      <td>42</td>\n",
              "      <td>3.0</td>\n",
              "      <td>75075.31</td>\n",
              "      <td>2</td>\n",
              "      <td>1</td>\n",
              "      <td>0</td>\n",
              "      <td>92888.52</td>\n",
              "      <td>1</td>\n",
              "      <td>1</td>\n",
              "      <td>0</td>\n",
              "      <td>1</td>\n",
              "    </tr>\n",
              "    <tr>\n",
              "      <th>9999</th>\n",
              "      <td>792</td>\n",
              "      <td>28</td>\n",
              "      <td>5.0</td>\n",
              "      <td>130142.79</td>\n",
              "      <td>1</td>\n",
              "      <td>1</td>\n",
              "      <td>0</td>\n",
              "      <td>38190.78</td>\n",
              "      <td>0</td>\n",
              "      <td>0</td>\n",
              "      <td>0</td>\n",
              "      <td>0</td>\n",
              "    </tr>\n",
              "  </tbody>\n",
              "</table>\n",
              "<p>10000 rows × 12 columns</p>\n",
              "</div>"
            ],
            "text/plain": [
              "      CreditScore  Age  Tenure    Balance  NumOfProducts  HasCrCard  \\\n",
              "0             619   42     2.0       0.00              1          1   \n",
              "1             608   41     1.0   83807.86              1          0   \n",
              "2             502   42     8.0  159660.80              3          1   \n",
              "3             699   39     1.0       0.00              2          0   \n",
              "4             850   43     2.0  125510.82              1          1   \n",
              "...           ...  ...     ...        ...            ...        ...   \n",
              "9995          771   39     5.0       0.00              2          1   \n",
              "9996          516   35    10.0   57369.61              1          1   \n",
              "9997          709   36     7.0       0.00              1          0   \n",
              "9998          772   42     3.0   75075.31              2          1   \n",
              "9999          792   28     5.0  130142.79              1          1   \n",
              "\n",
              "      IsActiveMember  EstimatedSalary  Exited  Geography_Germany  \\\n",
              "0                  1        101348.88       1                  0   \n",
              "1                  1        112542.58       0                  0   \n",
              "2                  0        113931.57       1                  0   \n",
              "3                  0         93826.63       0                  0   \n",
              "4                  1         79084.10       0                  0   \n",
              "...              ...              ...     ...                ...   \n",
              "9995               0         96270.64       0                  0   \n",
              "9996               1        101699.77       0                  0   \n",
              "9997               1         42085.58       1                  0   \n",
              "9998               0         92888.52       1                  1   \n",
              "9999               0         38190.78       0                  0   \n",
              "\n",
              "      Geography_Spain  Gender_Male  \n",
              "0                   0            0  \n",
              "1                   1            0  \n",
              "2                   0            0  \n",
              "3                   0            0  \n",
              "4                   1            0  \n",
              "...               ...          ...  \n",
              "9995                0            1  \n",
              "9996                0            1  \n",
              "9997                0            0  \n",
              "9998                0            1  \n",
              "9999                0            0  \n",
              "\n",
              "[10000 rows x 12 columns]"
            ]
          },
          "execution_count": 10,
          "metadata": {},
          "output_type": "execute_result"
        }
      ],
      "source": [
        "data"
      ]
    },
    {
      "cell_type": "markdown",
      "metadata": {
        "id": "Yrcn8X50iKNJ"
      },
      "source": [
        "Теперь выделим целевой признак (ушел клиент или нет) в отдельный датасет y. Далее разделим каждый из этих датасетов на выборки: тренировочную, валидационную и тестовую."
      ]
    },
    {
      "cell_type": "code",
      "execution_count": null,
      "metadata": {
        "id": "k-53YmroiKNK"
      },
      "outputs": [],
      "source": [
        "X = data.drop(['Exited'], axis=1) # все данные\n",
        "y = data['Exited'] # целевой признак\n",
        "\n",
        "X_train, X_valid, y_train, y_valid = train_test_split(X, y, train_size=0.6, test_size=0.4, random_state=12345)\n",
        "# делим каждый из датасетов на 60% тренировочных и 40% валидационных\n",
        "X_test, X_valid, y_test, y_valid = train_test_split(X_valid, y_valid, test_size=0.5, random_state=12345)\n",
        "# 40% валидационных данных делим пополам на валидационные и тестовые"
      ]
    },
    {
      "cell_type": "code",
      "execution_count": null,
      "metadata": {
        "id": "gxLGxyJyiKNL",
        "outputId": "b4a61300-2007-462d-9c6d-c85a6f263a18"
      },
      "outputs": [
        {
          "name": "stdout",
          "output_type": "stream",
          "text": [
            "Обучающие данные:6000\n",
            "Валидационные: 2000\n",
            "Тестовые: 2000\n",
            "\n",
            "Обучающие данные:6000\n",
            "Валидационные: 2000\n",
            "Тестовые: 2000\n"
          ]
        }
      ],
      "source": [
        "print(f'Обучающие данные:{X_train.shape[0]}\\nВалидационные: {X_valid.shape[0]}\\nТестовые: {X_test.shape[0]}')\n",
        "print()\n",
        "print(f'Обучающие данные:{y_train.shape[0]}\\nВалидационные: {y_valid.shape[0]}\\nТестовые: {y_test.shape[0]}')"
      ]
    },
    {
      "cell_type": "code",
      "execution_count": null,
      "metadata": {
        "id": "mnPMjRHiiKNN"
      },
      "outputs": [],
      "source": [
        "scaler = StandardScaler()\n",
        "numeric = ['CreditScore', 'Age','Tenure', 'Balance','NumOfProducts','HasCrCard', 'IsActiveMember', 'EstimatedSalary'] # список всех численных признаков \n",
        "scaler.fit(data[numeric])\n",
        "data[numeric] = scaler.transform(data[numeric])"
      ]
    },
    {
      "cell_type": "markdown",
      "metadata": {
        "id": "ZsLYxQeliKNP"
      },
      "source": [
        "На данном этапе мы преобразовали категорийные значения в численные, масштабировали их методом стандартизации и поделили полученный датасет на обучающие, валидационные и тестовые выборки."
      ]
    },
    {
      "cell_type": "markdown",
      "metadata": {
        "id": "Db8cQZHwiKNR"
      },
      "source": [
        "### Модель логистическая регрессия"
      ]
    },
    {
      "cell_type": "code",
      "execution_count": null,
      "metadata": {
        "id": "1suiR5ZziKNS",
        "outputId": "8bce2d96-aa05-4ef2-f24d-029e1aee84d4"
      },
      "outputs": [
        {
          "name": "stdout",
          "output_type": "stream",
          "text": [
            "F1: 0.13441955193482688\n"
          ]
        }
      ],
      "source": [
        "model = LogisticRegression(random_state=12345, solver='liblinear')\n",
        "model.fit(X_train, y_train)\n",
        "predicted_valid = model.predict(X_valid)\n",
        "print(\"F1:\", f1_score(y_valid, predicted_valid))"
      ]
    },
    {
      "cell_type": "markdown",
      "metadata": {
        "id": "JmrCvVzQiKNU"
      },
      "source": [
        "### Модель случайный лес"
      ]
    },
    {
      "cell_type": "code",
      "execution_count": null,
      "metadata": {
        "id": "aupKhrh1iKNV",
        "outputId": "85f382da-d5e9-41f3-a784-d2ebeca6abb5"
      },
      "outputs": [
        {
          "name": "stdout",
          "output_type": "stream",
          "text": [
            "F1: 0.5481927710843374\n"
          ]
        }
      ],
      "source": [
        "model = RandomForestClassifier(random_state=12345)\n",
        "model.fit(X_train, y_train)\n",
        "predicted_valid = model.predict(X_valid)\n",
        "print(\"F1:\", f1_score(y_valid, predicted_valid))"
      ]
    },
    {
      "cell_type": "markdown",
      "metadata": {
        "id": "_3tV5UzCiKNW"
      },
      "source": [
        "### Модель дерево решений"
      ]
    },
    {
      "cell_type": "code",
      "execution_count": null,
      "metadata": {
        "id": "9Hd_7LboiKNe",
        "outputId": "ebe36eea-fc57-4b6b-8588-25d99ce022f7"
      },
      "outputs": [
        {
          "name": "stdout",
          "output_type": "stream",
          "text": [
            "F1: 0.47863247863247865\n"
          ]
        }
      ],
      "source": [
        "model = DecisionTreeClassifier(random_state=12345)\n",
        "model.fit(X_train, y_train)\n",
        "predicted_valid = model.predict(X_valid)\n",
        "print(\"F1:\", f1_score(y_valid, predicted_valid))"
      ]
    },
    {
      "cell_type": "markdown",
      "metadata": {
        "id": "-fggcaXZiKNf"
      },
      "source": [
        "При исследовании трех моделей со стандартными параметрами значение F1 получилось выше в случае модели **случайного леса**, поэтому для дальнейшего исследования лучше изучать поведение именно этой модели."
      ]
    },
    {
      "cell_type": "markdown",
      "metadata": {
        "id": "eJSnttPYiKNf"
      },
      "source": [
        "## Борьба с дисбалансом"
      ]
    },
    {
      "cell_type": "markdown",
      "metadata": {
        "id": "OEw25uK_iKNh"
      },
      "source": [
        "Попробуем подобрать оптимальные значения параметра глубины и количества деревьев для модели Случайного леса, с импользованием параметра class_weight='balanced'. "
      ]
    },
    {
      "cell_type": "code",
      "execution_count": null,
      "metadata": {
        "id": "sdlA4ARZiKNh",
        "outputId": "171a4823-adc5-4282-c10a-28a0c33b1a2e"
      },
      "outputs": [
        {
          "name": "stdout",
          "output_type": "stream",
          "text": [
            "Depth:     1       |   Estimators:     1\n",
            "F1: 0.2177\n",
            "------------------------------------------------------\n",
            "Depth:     1       |   Estimators:    51\n",
            "F1: 0.5187\n",
            "------------------------------------------------------\n",
            "Depth:     1       |   Estimators:   101\n",
            "F1: 0.5232\n",
            "------------------------------------------------------\n",
            "Depth:    11       |   Estimators:     1\n",
            "F1: 0.5005\n",
            "------------------------------------------------------\n",
            "Depth:    11       |   Estimators:    51\n",
            "F1: 0.5945\n",
            "------------------------------------------------------\n",
            "Depth:    11       |   Estimators:   101\n",
            "F1: 0.6020\n",
            "------------------------------------------------------\n",
            "Depth:    21       |   Estimators:     1\n",
            "F1: 0.4793\n",
            "------------------------------------------------------\n",
            "Depth:    21       |   Estimators:    51\n",
            "F1: 0.5145\n",
            "------------------------------------------------------\n",
            "Depth:    21       |   Estimators:   101\n",
            "F1: 0.5116\n",
            "------------------------------------------------------\n"
          ]
        }
      ],
      "source": [
        "for depth,estimator in itertools.product(range(1,30,10), range(1,151,50)):\n",
        "    model = RandomForestClassifier(random_state=12345, max_depth=depth, n_estimators=estimator, class_weight='balanced')\n",
        "    model.fit(X_train, y_train)\n",
        "    predictions = model.predict(X_valid)\n",
        "    F1 = f1_score(y_valid, predictions)\n",
        "    print('Depth: {: >5.0f}       |   Estimators: {:>5.0f}'.format(depth, estimator))\n",
        "    print('F1: {: >5.4f}'.format(F1))\n",
        "    print('------------------------------------------------------')"
      ]
    },
    {
      "cell_type": "markdown",
      "metadata": {
        "id": "uXpWxzWAiKNj"
      },
      "source": [
        "Таким образом наилучший показатель F1 меры равен 0.6058 и его удалось достичь при глубине 11 и количестве деревьев 51. Посмотрим насколько выборка не сбалансирована:"
      ]
    },
    {
      "cell_type": "code",
      "execution_count": null,
      "metadata": {
        "id": "WEEwuS7IiKNk",
        "outputId": "d6181619-3c2e-43c1-a3bc-4baeba709531"
      },
      "outputs": [
        {
          "data": {
            "text/plain": [
              "0    7963\n",
              "1    2037\n",
              "Name: Exited, dtype: int64"
            ]
          },
          "execution_count": 18,
          "metadata": {},
          "output_type": "execute_result"
        }
      ],
      "source": [
        "y.value_counts()"
      ]
    },
    {
      "cell_type": "code",
      "execution_count": null,
      "metadata": {
        "id": "VLoSOM2siKNm",
        "outputId": "8b34364d-5e78-4146-8deb-8eb67f52fe52"
      },
      "outputs": [
        {
          "data": {
            "text/plain": [
              "<AxesSubplot:ylabel='Exited'>"
            ]
          },
          "execution_count": 19,
          "metadata": {},
          "output_type": "execute_result"
        },
        {
          "data": {
            "image/png": "[encoded data removed]",
            "text/plain": [
              "<Figure size 432x288 with 1 Axes>"
            ]
          },
          "metadata": {},
          "output_type": "display_data"
        }
      ],
      "source": [
        "y.value_counts().plot.pie(autopct='%.2f')"
      ]
    },
    {
      "cell_type": "markdown",
      "metadata": {
        "id": "sbBcoEK5iKNn"
      },
      "source": [
        "Для того, чтобы сбалансировать данную выборку можно увеличить выборку \"1\", либо уменьшить выборку \"0\". Попробуем сначала увеличить выборку при помощи техники upsampling."
      ]
    },
    {
      "cell_type": "code",
      "execution_count": null,
      "metadata": {
        "id": "_gevGg85iKNn",
        "outputId": "5bc971a3-fee2-4941-d838-01bceb344cf7"
      },
      "outputs": [
        {
          "name": "stdout",
          "output_type": "stream",
          "text": [
            "F1: 0.546  |   Repeats:     1\n",
            "F1: 0.580  |   Repeats:     2\n",
            "F1: 0.594  |   Repeats:     3\n",
            "F1: 0.591  |   Repeats:     4\n",
            "F1: 0.590  |   Repeats:     5\n",
            "F1: 0.605  |   Repeats:     6\n",
            "F1: 0.586  |   Repeats:     7\n",
            "F1: 0.567  |   Repeats:     8\n",
            "F1: 0.584  |   Repeats:     9\n"
          ]
        }
      ],
      "source": [
        "def upsample(X, y, repeat):\n",
        "    X_zeros = X[y == 0]\n",
        "    X_ones = X[y == 1]\n",
        "    y_zeros = y[y == 0]\n",
        "    y_ones = y[y == 1]\n",
        "\n",
        "    X_upsampled = pd.concat([X_zeros] + [X_ones] * repeat)\n",
        "    y_upsampled = pd.concat([y_zeros] + [y_ones] * repeat)\n",
        "    \n",
        "    X_upsampled, y_upsampled = shuffle(\n",
        "        X_upsampled, y_upsampled, random_state=12345)\n",
        " \n",
        "    return X_upsampled, y_upsampled\n",
        "\n",
        "for repeat in range(1,10,1):\n",
        "    X_upsampled, y_upsampled = upsample(X_train, y_train, repeat)\n",
        "\n",
        "    model = RandomForestClassifier(random_state=12345)\n",
        "    model.fit(X_upsampled, y_upsampled)\n",
        "    predicted_valid = model.predict(X_valid)\n",
        "    print(\"F1: {: >5.3f}  |   Repeats: {: >5.0f}\".format(f1_score(y_valid, predicted_valid),repeat))"
      ]
    },
    {
      "cell_type": "code",
      "execution_count": null,
      "metadata": {
        "id": "SM2LhJSRiKNp",
        "outputId": "b8bae5bb-d2d8-460c-d959-176808973b54"
      },
      "outputs": [
        {
          "data": {
            "text/plain": [
              "0    0.501043\n",
              "1    0.498957\n",
              "Name: Exited, dtype: float64"
            ]
          },
          "execution_count": 21,
          "metadata": {},
          "output_type": "execute_result"
        }
      ],
      "source": [
        "X_train_up, y_train_up = upsample(X_train, y_train, 4)\n",
        "y_train_up.value_counts(normalize=True)"
      ]
    },
    {
      "cell_type": "code",
      "execution_count": null,
      "metadata": {
        "id": "bE1ww_s1iKNp",
        "outputId": "ee680379-8862-4931-db51-a5618be9282a"
      },
      "outputs": [
        {
          "data": {
            "text/plain": [
              "<AxesSubplot:>"
            ]
          },
          "execution_count": 22,
          "metadata": {},
          "output_type": "execute_result"
        },
        {
          "data": {
            "image/png": "[encoded data removed]",
            "text/plain": [
              "<Figure size 432x288 with 1 Axes>"
            ]
          },
          "metadata": {
            "needs_background": "light"
          },
          "output_type": "display_data"
        }
      ],
      "source": [
        "y_train_up.value_counts().plot(kind='bar')"
      ]
    },
    {
      "cell_type": "code",
      "execution_count": null,
      "metadata": {
        "id": "6dvbBJ63iKNr",
        "outputId": "1e364dd0-3211-4148-eca0-c4197408f3ab"
      },
      "outputs": [
        {
          "name": "stdout",
          "output_type": "stream",
          "text": [
            "F1 наилучшей модели на валидационной выборке: 0.5900681596884129\n"
          ]
        }
      ],
      "source": [
        "best_result = 0\n",
        "for est in range(10, 51, 10):\n",
        "    for depth in range(1, 6):\n",
        "        model = RandomForestClassifier(random_state=12345, n_estimators=est, max_depth=depth)\n",
        "        model.fit(X_train_up, y_train_up)\n",
        "        predicted_valid_up = model.predict(X_valid)\n",
        "        f1 = f1_score(y_valid, predicted_valid_up)\n",
        "        if f1 > best_result:\n",
        "            best_result = f1 \n",
        "\n",
        "print(\"F1 наилучшей модели на валидационной выборке:\", best_result)"
      ]
    },
    {
      "cell_type": "markdown",
      "metadata": {
        "id": "5AzQFjJ_iKNs"
      },
      "source": [
        "Итак, теперь классы почти равны. Получается лучший показатель F1 = 0.604, при увеличении выборки мера практически не поменялась. Теперь попробуем уменьшить выборку техникой downsampling."
      ]
    },
    {
      "cell_type": "code",
      "execution_count": null,
      "metadata": {
        "id": "_u0qu-ciiKNx",
        "outputId": "5a949819-77c6-4ca8-c9ce-1f2fdb4282e5"
      },
      "outputs": [
        {
          "name": "stdout",
          "output_type": "stream",
          "text": [
            "F1: 0.372  |  Fractions : 0.030\n",
            "F1: 0.427  |  Fractions : 0.060\n",
            "F1: 0.477  |  Fractions : 0.090\n",
            "F1: 0.521  |  Fractions : 0.120\n",
            "F1: 0.540  |  Fractions : 0.150\n",
            "F1: 0.545  |  Fractions : 0.180\n",
            "F1: 0.559  |  Fractions : 0.210\n",
            "F1: 0.565  |  Fractions : 0.240\n",
            "F1: 0.590  |  Fractions : 0.270\n",
            "F1: 0.592  |  Fractions : 0.300\n"
          ]
        }
      ],
      "source": [
        "def downsample(X, y, fraction):\n",
        "    X_zeros = X[y == 0]\n",
        "    X_ones = X[y == 1]\n",
        "    y_zeros = y[y == 0]\n",
        "    y_ones = y[y == 1]\n",
        "\n",
        "    X_downsampled = pd.concat(\n",
        "        [X_zeros.sample(frac=fraction, random_state=12345)] + [X_ones])\n",
        "    y_downsampled = pd.concat(\n",
        "        [y_zeros.sample(frac=fraction, random_state=12345)] + [y_ones])\n",
        "    \n",
        "    X_downsampled, y_downsampled = shuffle(\n",
        "        X_downsampled, y_downsampled, random_state=12345)\n",
        "    \n",
        "    return X_downsampled, y_downsampled\n",
        "\n",
        "for i in np.arange(0.03, 0.31, 0.03):\n",
        "    X_downsampled, y_downsampled = downsample(X_train, y_train, i)\n",
        "    model = RandomForestClassifier(random_state=12345)\n",
        "    model.fit(X_downsampled, y_downsampled)\n",
        "    predicted_valid = model.predict(X_valid)\n",
        "    print(\"F1: {: >5.3f}  |  Fractions : {: >5.3f}\".format(f1_score(y_valid, predicted_valid), i))"
      ]
    },
    {
      "cell_type": "code",
      "execution_count": null,
      "metadata": {
        "id": "AnhkYWhxiKNy",
        "outputId": "36f96593-d20a-428d-b75f-63565e7c0a0f"
      },
      "outputs": [
        {
          "data": {
            "text/plain": [
              "0    0.546454\n",
              "1    0.453546\n",
              "Name: Exited, dtype: float64"
            ]
          },
          "execution_count": 25,
          "metadata": {},
          "output_type": "execute_result"
        }
      ],
      "source": [
        "X_train_down, y_train_down = downsample(X_train, y_train, 0.3)\n",
        "y_train_down.value_counts(normalize=True)"
      ]
    },
    {
      "cell_type": "code",
      "execution_count": null,
      "metadata": {
        "id": "AcGuwwtEiKNz",
        "outputId": "96224586-5f53-46e1-b5b7-08cda0e49048"
      },
      "outputs": [
        {
          "data": {
            "text/plain": [
              "<AxesSubplot:>"
            ]
          },
          "execution_count": 26,
          "metadata": {},
          "output_type": "execute_result"
        },
        {
          "data": {
            "image/png": "[encoded data removed]",
            "text/plain": [
              "<Figure size 432x288 with 1 Axes>"
            ]
          },
          "metadata": {
            "needs_background": "light"
          },
          "output_type": "display_data"
        }
      ],
      "source": [
        "y_train_down.value_counts().plot(kind='bar')"
      ]
    },
    {
      "cell_type": "markdown",
      "metadata": {
        "id": "6R8Sw7wwiKN0"
      },
      "source": [
        "При уменьшении выборки показатель F1 меры даже немного ухудшился, но выборки практически сбалансировались. С помощью этих техник улучшения показателей достичь не удалось."
      ]
    },
    {
      "cell_type": "markdown",
      "metadata": {
        "id": "87OVjvYbiKN7"
      },
      "source": [
        "**Вывод:**\n",
        "таким образом лучшее значение F1, которого удалось достичь **0.60** у модели **Случайный лес** при подборе параметров с глубиной 11 и количеством деревьев равным 51. При балансе 1 к 1 качество модели становится еще хуже, поэтому на графиках представлен наиболее оптимальный вариант. Улучшить модель путем увеличения и уменьшения выборок не удалось."
      ]
    },
    {
      "cell_type": "markdown",
      "metadata": {
        "id": "26r8ax2DiKN8"
      },
      "source": [
        "## Тестирование модели"
      ]
    },
    {
      "cell_type": "markdown",
      "metadata": {
        "id": "YUlREDPBiKOh"
      },
      "source": [
        "Построим график кривой Precision-Recall модели случайного леса с наилучшими показателями."
      ]
    },
    {
      "cell_type": "code",
      "execution_count": null,
      "metadata": {
        "id": "OrpXPSAviKOi",
        "outputId": "7b7ba5b1-d8b7-47a3-aa3f-bbf81a77c5f3"
      },
      "outputs": [
        {
          "name": "stdout",
          "output_type": "stream",
          "text": [
            "Valid F1: 0.5944584382871537\n",
            "Test F1: 0.6136363636363636\n"
          ]
        },
        {
          "data": {
            "image/png": "[encoded data removed]",
            "text/plain": [
              "<Figure size 432x288 with 1 Axes>"
            ]
          },
          "metadata": {
            "needs_background": "light"
          },
          "output_type": "display_data"
        }
      ],
      "source": [
        "model = RandomForestClassifier(random_state=12345, \n",
        "                               class_weight='balanced',\n",
        "                               n_estimators = 51, \n",
        "                               max_depth=11)\n",
        "model.fit(X_train, y_train)\n",
        "\n",
        "predicted_valid = model.predict(X_valid)\n",
        "print('Valid F1:', f1_score(y_valid, predicted_valid))\n",
        "\n",
        "predicted_test = model.predict(X_test)\n",
        "print('Test F1:', f1_score(y_test, predicted_test))\n",
        "\n",
        "probabilities_test = model.predict_proba(X_test)\n",
        "precision, recall, thresholds = precision_recall_curve(y_test, probabilities_test[:, 1])\n",
        "\n",
        "plt.figure()\n",
        "plt.step(recall, precision, where='post')\n",
        "plt.xlabel('Recall')\n",
        "plt.ylabel('Precision')\n",
        "plt.ylim([0.0, 1.05])\n",
        "plt.xlim([0.0, 1.0])\n",
        "plt.title('Кривая Precision-Recall')\n",
        "plt.show()"
      ]
    },
    {
      "cell_type": "markdown",
      "metadata": {
        "id": "XTR48y3giKOj"
      },
      "source": [
        "На тестовой выборке показатель F1 равен 0.61.\n",
        "Теперь построим ROC-кривую для случайного леса с лучшим результатом F1. По горизонтали доля ложноположительных ответов (FPR), а по вертикали — доля истинно положительных ответов (TPR).Проведём ROC-кривая, или кривую ошибок. У случайной модели она выглядит как прямая линия, построим также ее для более наглядного сравнения.  "
      ]
    },
    {
      "cell_type": "code",
      "execution_count": null,
      "metadata": {
        "id": "KY_kkYLMiKOk",
        "outputId": "4e0dbe0c-0391-4a4a-9bc9-5f468ce9e4d7"
      },
      "outputs": [
        {
          "data": {
            "image/png": "[encoded data removed]",
            "text/plain": [
              "<Figure size 432x288 with 1 Axes>"
            ]
          },
          "metadata": {
            "needs_background": "light"
          },
          "output_type": "display_data"
        },
        {
          "data": {
            "text/plain": [
              "[<matplotlib.lines.Line2D at 0x7f209b129a30>]"
            ]
          },
          "execution_count": 28,
          "metadata": {},
          "output_type": "execute_result"
        },
        {
          "data": {
            "image/png": "[encoded data removed]",
            "text/plain": [
              "<Figure size 432x288 with 1 Axes>"
            ]
          },
          "metadata": {
            "needs_background": "light"
          },
          "output_type": "display_data"
        }
      ],
      "source": [
        "model = RandomForestClassifier(random_state=12345, \n",
        "                               class_weight='balanced',\n",
        "                               n_estimators = 51, \n",
        "                               max_depth=11)\n",
        "model.fit(X_train, y_train)\n",
        "\n",
        "probabilities_test = model.predict_proba(X_test)\n",
        "probabilities_one_test = probabilities_test[:, 1]\n",
        "\n",
        "fpr, tpr, thresholds = roc_curve(y_test, probabilities_one_test) \n",
        "\n",
        "plt.figure()\n",
        "plt.plot(fpr, tpr)\n",
        "plt.xlim([0.0, 1.0])\n",
        "plt.ylim([0.0, 1.0])\n",
        "plt.xlabel('False Positive Rate')\n",
        "plt.ylabel('True Positive Rate')\n",
        "plt.title('ROC-кривая')\n",
        "plt.show()\n",
        "\n",
        "\n",
        "plt.plot([0, 1], [0, 1], linestyle='--')\n"
      ]
    },
    {
      "cell_type": "markdown",
      "metadata": {
        "id": "jW5rmRHciKOl"
      },
      "source": [
        "Теперь посчитаем площадь под ROC-кривой — AUC-ROC."
      ]
    },
    {
      "cell_type": "code",
      "execution_count": null,
      "metadata": {
        "id": "uf59Mr_eiKOm",
        "outputId": "a996669b-feb0-4de6-9132-9214cd3fd4b8"
      },
      "outputs": [
        {
          "name": "stdout",
          "output_type": "stream",
          "text": [
            "0.8446594160380838\n"
          ]
        }
      ],
      "source": [
        "model = RandomForestClassifier(random_state=12345, \n",
        "                               class_weight='balanced',\n",
        "                               n_estimators = 51, \n",
        "                               max_depth=11)\n",
        "model.fit(X_train, y_train)\n",
        "predicted_test = model.predict(X_test)\n",
        "\n",
        "probabilities_test = model.predict_proba(X_test)\n",
        "probabilities_one_test = probabilities_test[:, 1]\n",
        "\n",
        "auc_roc = roc_auc_score(y_test, probabilities_one_test)\n",
        "\n",
        "print(auc_roc)"
      ]
    },
    {
      "cell_type": "markdown",
      "metadata": {
        "id": "l9w1RBzUiKOo"
      },
      "source": [
        "AUC-ROC это метрика качества, которая в данном случае получилась равной 0.84, что является хорошим результатом, так как значительно выше порога."
      ]
    },
    {
      "cell_type": "markdown",
      "metadata": {
        "id": "s-TpCFKwiKOo"
      },
      "source": [
        "# Общий вывод\n",
        "* Для прогнозирования оттока клиентов предварительно были протестированы три модели машинного обучения со стандартными параметрами: Логистическая регрессия, Случайный лес и Дерево решений. \n",
        "* Наилучший результат значения F1-меры показала модель Случайного леса, поэтому дальнейшие исследования были проведены с ней.\n",
        "* При подборе оптимальной глубины леса (11) и количества деревьев (51) получилось достичь значения F1 = 0.61.\n",
        "* Использование техник увеличения и уменьшения выборок не улучшило показатель F1 меры.\n",
        "* Построен график кривой Precision-Recall.\n",
        "* Построен график кривой ROC и получено значение AUC-ROC наилучшей модели равное 0.84, что значительно выше порога. "
      ]
    }
  ],
  "metadata": {
    "ExecuteTimeLog": [
      {
        "duration": 347,
        "start_time": "2022-12-29T11:38:21.145Z"
      },
      {
        "duration": 63,
        "start_time": "2022-12-29T11:38:51.467Z"
      },
      {
        "duration": 1229,
        "start_time": "2022-12-29T11:39:05.085Z"
      },
      {
        "duration": 38,
        "start_time": "2022-12-29T11:41:42.507Z"
      },
      {
        "duration": 33,
        "start_time": "2022-12-29T11:43:54.108Z"
      },
      {
        "duration": 2121,
        "start_time": "2022-12-29T11:44:47.238Z"
      },
      {
        "duration": 1373,
        "start_time": "2022-12-29T11:46:04.278Z"
      },
      {
        "duration": 82,
        "start_time": "2022-12-29T11:49:33.610Z"
      },
      {
        "duration": 27,
        "start_time": "2022-12-29T11:49:40.745Z"
      },
      {
        "duration": 16,
        "start_time": "2022-12-29T11:49:56.352Z"
      },
      {
        "duration": 37,
        "start_time": "2022-12-29T11:50:43.512Z"
      },
      {
        "duration": 45,
        "start_time": "2023-01-10T13:35:13.585Z"
      },
      {
        "duration": 6,
        "start_time": "2023-01-10T13:35:18.761Z"
      },
      {
        "duration": 419,
        "start_time": "2023-01-10T13:35:21.227Z"
      },
      {
        "duration": 99,
        "start_time": "2023-01-10T13:35:21.910Z"
      },
      {
        "duration": 28,
        "start_time": "2023-01-10T13:35:22.510Z"
      },
      {
        "duration": 38,
        "start_time": "2023-01-10T13:35:23.990Z"
      },
      {
        "duration": 7,
        "start_time": "2023-01-10T13:35:36.812Z"
      },
      {
        "duration": 5,
        "start_time": "2023-01-10T13:36:05.993Z"
      },
      {
        "duration": 19,
        "start_time": "2023-01-10T13:36:15.499Z"
      },
      {
        "duration": 12,
        "start_time": "2023-01-10T13:37:49.697Z"
      },
      {
        "duration": 37,
        "start_time": "2023-01-10T13:38:00.103Z"
      },
      {
        "duration": 7,
        "start_time": "2023-01-10T13:38:50.796Z"
      },
      {
        "duration": 3,
        "start_time": "2023-01-10T13:41:23.237Z"
      },
      {
        "duration": 191,
        "start_time": "2023-01-10T14:02:26.358Z"
      },
      {
        "duration": 9,
        "start_time": "2023-01-10T14:09:42.584Z"
      },
      {
        "duration": 712,
        "start_time": "2023-01-10T14:11:01.895Z"
      },
      {
        "duration": 40,
        "start_time": "2023-01-10T14:11:07.145Z"
      },
      {
        "duration": 49,
        "start_time": "2023-01-10T14:11:27.051Z"
      },
      {
        "duration": 21,
        "start_time": "2023-01-10T14:11:36.921Z"
      },
      {
        "duration": 12,
        "start_time": "2023-01-10T14:17:19.542Z"
      },
      {
        "duration": 13,
        "start_time": "2023-01-10T14:18:21.892Z"
      },
      {
        "duration": 12,
        "start_time": "2023-01-10T14:18:47.179Z"
      },
      {
        "duration": 2,
        "start_time": "2023-01-10T14:19:00.121Z"
      },
      {
        "duration": 36,
        "start_time": "2023-01-10T14:19:00.886Z"
      },
      {
        "duration": 21,
        "start_time": "2023-01-10T14:19:01.374Z"
      },
      {
        "duration": 4,
        "start_time": "2023-01-10T14:19:02.751Z"
      },
      {
        "duration": 12,
        "start_time": "2023-01-10T14:19:04.229Z"
      },
      {
        "duration": 33,
        "start_time": "2023-01-10T14:19:04.640Z"
      },
      {
        "duration": 9,
        "start_time": "2023-01-10T14:19:05.466Z"
      },
      {
        "duration": 4,
        "start_time": "2023-01-10T14:19:06.277Z"
      },
      {
        "duration": 11,
        "start_time": "2023-01-10T14:19:08.263Z"
      },
      {
        "duration": 25,
        "start_time": "2023-01-10T14:19:09.193Z"
      },
      {
        "duration": 16,
        "start_time": "2023-01-10T14:19:09.778Z"
      },
      {
        "duration": 11,
        "start_time": "2023-01-10T14:23:09.931Z"
      },
      {
        "duration": 17,
        "start_time": "2023-01-10T14:23:33.320Z"
      },
      {
        "duration": 9,
        "start_time": "2023-01-10T14:23:45.690Z"
      },
      {
        "duration": 12,
        "start_time": "2023-01-10T14:23:49.145Z"
      },
      {
        "duration": 19,
        "start_time": "2023-01-10T14:23:55.219Z"
      },
      {
        "duration": 5,
        "start_time": "2023-01-10T14:24:17.604Z"
      },
      {
        "duration": 8,
        "start_time": "2023-01-10T14:29:11.399Z"
      },
      {
        "duration": 9,
        "start_time": "2023-01-10T14:30:26.346Z"
      },
      {
        "duration": 3,
        "start_time": "2023-01-10T14:31:04.440Z"
      },
      {
        "duration": 3,
        "start_time": "2023-01-10T14:31:36.607Z"
      },
      {
        "duration": 3,
        "start_time": "2023-01-10T14:31:44.139Z"
      },
      {
        "duration": 19,
        "start_time": "2023-01-10T14:44:58.852Z"
      },
      {
        "duration": 12,
        "start_time": "2023-01-10T14:45:02.838Z"
      },
      {
        "duration": 26,
        "start_time": "2023-01-10T14:46:49.110Z"
      },
      {
        "duration": 26,
        "start_time": "2023-01-10T14:49:18.717Z"
      },
      {
        "duration": 13,
        "start_time": "2023-01-10T14:49:28.504Z"
      },
      {
        "duration": 748,
        "start_time": "2023-01-10T14:49:42.441Z"
      },
      {
        "duration": 3,
        "start_time": "2023-01-10T14:55:47.793Z"
      },
      {
        "duration": 10,
        "start_time": "2023-01-10T14:56:23.690Z"
      },
      {
        "duration": 39,
        "start_time": "2023-01-10T14:56:34.954Z"
      },
      {
        "duration": 11,
        "start_time": "2023-01-10T15:03:49.829Z"
      },
      {
        "duration": 18,
        "start_time": "2023-01-10T15:06:06.521Z"
      },
      {
        "duration": 3,
        "start_time": "2023-01-10T15:06:30.614Z"
      },
      {
        "duration": 12,
        "start_time": "2023-01-10T15:06:35.038Z"
      },
      {
        "duration": 44,
        "start_time": "2023-01-10T15:07:22.078Z"
      },
      {
        "duration": 38,
        "start_time": "2023-01-10T15:07:37.817Z"
      },
      {
        "duration": 1611,
        "start_time": "2023-01-10T15:09:29.134Z"
      },
      {
        "duration": 1602,
        "start_time": "2023-01-10T15:09:51.098Z"
      },
      {
        "duration": 1744,
        "start_time": "2023-01-10T15:10:05.967Z"
      },
      {
        "duration": 9,
        "start_time": "2023-01-10T15:15:09.358Z"
      },
      {
        "duration": 1618,
        "start_time": "2023-01-10T15:15:54.332Z"
      },
      {
        "duration": 524,
        "start_time": "2023-01-10T15:16:11.405Z"
      },
      {
        "duration": 451,
        "start_time": "2023-01-10T15:22:45.241Z"
      },
      {
        "duration": 4,
        "start_time": "2023-01-10T15:23:01.226Z"
      },
      {
        "duration": 1492,
        "start_time": "2023-01-10T15:24:39.780Z"
      },
      {
        "duration": 1499,
        "start_time": "2023-01-10T15:26:11.699Z"
      },
      {
        "duration": 4,
        "start_time": "2023-01-10T15:27:04.195Z"
      },
      {
        "duration": 78,
        "start_time": "2023-01-10T15:28:06.692Z"
      },
      {
        "duration": 13,
        "start_time": "2023-01-10T15:28:44.194Z"
      },
      {
        "duration": 11,
        "start_time": "2023-01-10T15:29:53.471Z"
      },
      {
        "duration": 10,
        "start_time": "2023-01-10T15:30:16.201Z"
      },
      {
        "duration": 67,
        "start_time": "2023-01-10T15:30:45.150Z"
      },
      {
        "duration": 11,
        "start_time": "2023-01-10T15:30:59.580Z"
      },
      {
        "duration": 13,
        "start_time": "2023-01-10T15:31:08.589Z"
      },
      {
        "duration": 14,
        "start_time": "2023-01-10T15:32:15.492Z"
      },
      {
        "duration": 22,
        "start_time": "2023-01-10T15:35:00.675Z"
      },
      {
        "duration": 46,
        "start_time": "2023-01-10T15:35:37.108Z"
      },
      {
        "duration": 67,
        "start_time": "2023-01-10T15:35:45.699Z"
      },
      {
        "duration": 11,
        "start_time": "2023-01-10T15:35:50.659Z"
      },
      {
        "duration": 10,
        "start_time": "2023-01-10T15:35:58.330Z"
      },
      {
        "duration": 13,
        "start_time": "2023-01-10T15:37:18.316Z"
      },
      {
        "duration": 5,
        "start_time": "2023-01-10T15:37:22.917Z"
      },
      {
        "duration": 10,
        "start_time": "2023-01-10T15:41:50.062Z"
      },
      {
        "duration": 11,
        "start_time": "2023-01-10T15:42:19.209Z"
      },
      {
        "duration": 1555,
        "start_time": "2023-01-10T15:42:58.458Z"
      },
      {
        "duration": 4,
        "start_time": "2023-01-10T15:43:33.210Z"
      },
      {
        "duration": 1426,
        "start_time": "2023-01-10T15:45:21.538Z"
      },
      {
        "duration": 1596,
        "start_time": "2023-01-10T15:46:58.468Z"
      },
      {
        "duration": 1618,
        "start_time": "2023-01-10T15:47:12.999Z"
      },
      {
        "duration": 1528,
        "start_time": "2023-01-10T15:47:52.715Z"
      },
      {
        "duration": 1544,
        "start_time": "2023-01-10T15:50:19.685Z"
      },
      {
        "duration": 1510,
        "start_time": "2023-01-10T15:50:32.820Z"
      },
      {
        "duration": 1392,
        "start_time": "2023-01-10T15:51:11.130Z"
      },
      {
        "duration": 70,
        "start_time": "2023-01-10T16:04:52.210Z"
      },
      {
        "duration": 4,
        "start_time": "2023-01-10T16:08:16.290Z"
      },
      {
        "duration": 37,
        "start_time": "2023-01-10T16:08:20.246Z"
      },
      {
        "duration": 32,
        "start_time": "2023-01-10T16:08:48.001Z"
      },
      {
        "duration": 3220,
        "start_time": "2023-01-10T16:09:00.818Z"
      },
      {
        "duration": 3079,
        "start_time": "2023-01-10T16:09:12.480Z"
      },
      {
        "duration": 5413,
        "start_time": "2023-01-10T16:11:05.188Z"
      },
      {
        "duration": 7512,
        "start_time": "2023-01-10T16:11:28.476Z"
      },
      {
        "duration": 4452,
        "start_time": "2023-01-10T16:11:46.262Z"
      },
      {
        "duration": 4458,
        "start_time": "2023-01-10T16:12:23.441Z"
      },
      {
        "duration": 4465,
        "start_time": "2023-01-10T16:13:33.670Z"
      },
      {
        "duration": 4449,
        "start_time": "2023-01-10T16:13:52.711Z"
      },
      {
        "duration": 1389,
        "start_time": "2023-01-10T16:14:52.478Z"
      },
      {
        "duration": 1459,
        "start_time": "2023-01-10T16:15:04.753Z"
      },
      {
        "duration": 1253,
        "start_time": "2023-01-10T16:15:17.635Z"
      },
      {
        "duration": 1226,
        "start_time": "2023-01-10T16:15:39.479Z"
      },
      {
        "duration": 1392,
        "start_time": "2023-01-10T16:15:59.181Z"
      },
      {
        "duration": 1326,
        "start_time": "2023-01-10T16:16:13.280Z"
      },
      {
        "duration": 1299,
        "start_time": "2023-01-10T16:19:51.283Z"
      },
      {
        "duration": 39,
        "start_time": "2023-01-10T16:19:52.586Z"
      },
      {
        "duration": 21,
        "start_time": "2023-01-10T16:19:52.627Z"
      },
      {
        "duration": 4,
        "start_time": "2023-01-10T16:19:52.650Z"
      },
      {
        "duration": 28,
        "start_time": "2023-01-10T16:19:52.655Z"
      },
      {
        "duration": 38,
        "start_time": "2023-01-10T16:19:52.684Z"
      },
      {
        "duration": 6,
        "start_time": "2023-01-10T16:19:52.723Z"
      },
      {
        "duration": 7,
        "start_time": "2023-01-10T16:19:52.730Z"
      },
      {
        "duration": 41,
        "start_time": "2023-01-10T16:19:52.739Z"
      },
      {
        "duration": 35,
        "start_time": "2023-01-10T16:19:52.783Z"
      },
      {
        "duration": 17,
        "start_time": "2023-01-10T16:19:52.820Z"
      },
      {
        "duration": 10,
        "start_time": "2023-01-10T16:19:52.839Z"
      },
      {
        "duration": 13,
        "start_time": "2023-01-10T16:19:52.852Z"
      },
      {
        "duration": 57,
        "start_time": "2023-01-10T16:19:52.867Z"
      },
      {
        "duration": 912,
        "start_time": "2023-01-10T16:19:52.926Z"
      },
      {
        "duration": 39,
        "start_time": "2023-01-10T16:19:53.840Z"
      },
      {
        "duration": 10,
        "start_time": "2023-01-10T16:19:53.881Z"
      },
      {
        "duration": 1619,
        "start_time": "2023-01-10T16:19:53.893Z"
      },
      {
        "duration": 13,
        "start_time": "2023-01-10T16:19:55.514Z"
      },
      {
        "duration": 503,
        "start_time": "2023-01-10T16:19:55.529Z"
      },
      {
        "duration": 4397,
        "start_time": "2023-01-10T16:19:56.033Z"
      },
      {
        "duration": 1361,
        "start_time": "2023-01-10T16:20:00.431Z"
      },
      {
        "duration": 1455,
        "start_time": "2023-01-10T16:20:01.794Z"
      },
      {
        "duration": 1284,
        "start_time": "2023-01-10T16:20:03.250Z"
      },
      {
        "duration": 1664,
        "start_time": "2023-01-12T12:44:24.289Z"
      },
      {
        "duration": 342,
        "start_time": "2023-01-12T12:44:25.955Z"
      },
      {
        "duration": 31,
        "start_time": "2023-01-12T12:44:26.299Z"
      },
      {
        "duration": 5,
        "start_time": "2023-01-12T12:44:48.035Z"
      },
      {
        "duration": 13,
        "start_time": "2023-01-12T12:44:51.112Z"
      },
      {
        "duration": 37,
        "start_time": "2023-01-12T12:44:51.564Z"
      },
      {
        "duration": 8,
        "start_time": "2023-01-12T12:44:53.063Z"
      },
      {
        "duration": 4,
        "start_time": "2023-01-12T12:44:55.042Z"
      },
      {
        "duration": 6,
        "start_time": "2023-01-12T12:46:38.867Z"
      },
      {
        "duration": 23,
        "start_time": "2023-01-12T12:46:48.976Z"
      },
      {
        "duration": 4,
        "start_time": "2023-01-12T12:47:55.681Z"
      },
      {
        "duration": 12,
        "start_time": "2023-01-12T12:47:58.137Z"
      },
      {
        "duration": 118,
        "start_time": "2023-01-12T12:48:03.463Z"
      },
      {
        "duration": 18,
        "start_time": "2023-01-12T12:48:44.587Z"
      },
      {
        "duration": 11,
        "start_time": "2023-01-12T12:48:46.050Z"
      },
      {
        "duration": 4,
        "start_time": "2023-01-12T12:48:46.611Z"
      },
      {
        "duration": 24,
        "start_time": "2023-01-12T12:48:57.319Z"
      },
      {
        "duration": 36,
        "start_time": "2023-01-12T12:49:04.957Z"
      },
      {
        "duration": 31,
        "start_time": "2023-01-12T12:49:16.923Z"
      },
      {
        "duration": 709,
        "start_time": "2023-01-12T12:49:52.294Z"
      },
      {
        "duration": 38,
        "start_time": "2023-01-12T12:50:01.073Z"
      },
      {
        "duration": 32,
        "start_time": "2023-01-12T12:50:37.278Z"
      },
      {
        "duration": 4,
        "start_time": "2023-01-12T12:51:17.757Z"
      },
      {
        "duration": 18,
        "start_time": "2023-01-12T12:51:26.761Z"
      },
      {
        "duration": 4,
        "start_time": "2023-01-12T12:53:29.350Z"
      },
      {
        "duration": 1881,
        "start_time": "2023-01-12T12:53:32.160Z"
      },
      {
        "duration": 15,
        "start_time": "2023-01-12T12:55:28.062Z"
      },
      {
        "duration": 5,
        "start_time": "2023-01-12T12:55:37.454Z"
      },
      {
        "duration": 501,
        "start_time": "2023-01-12T12:55:38.491Z"
      },
      {
        "duration": 19,
        "start_time": "2023-01-12T12:56:55.337Z"
      },
      {
        "duration": 4,
        "start_time": "2023-01-12T13:01:24.299Z"
      },
      {
        "duration": 17,
        "start_time": "2023-01-12T13:01:31.430Z"
      },
      {
        "duration": 4,
        "start_time": "2023-01-12T13:01:52.988Z"
      },
      {
        "duration": 6,
        "start_time": "2023-01-12T13:02:01.673Z"
      },
      {
        "duration": 5065,
        "start_time": "2023-01-12T13:02:21.002Z"
      },
      {
        "duration": 5060,
        "start_time": "2023-01-12T13:02:55.088Z"
      },
      {
        "duration": 14,
        "start_time": "2023-01-12T13:09:32.150Z"
      },
      {
        "duration": 977,
        "start_time": "2023-01-12T13:10:09.832Z"
      },
      {
        "duration": 25,
        "start_time": "2023-01-12T13:13:05.921Z"
      },
      {
        "duration": 30,
        "start_time": "2023-01-12T13:13:34.189Z"
      },
      {
        "duration": 59,
        "start_time": "2023-01-12T13:21:49.419Z"
      },
      {
        "duration": 873,
        "start_time": "2023-01-12T13:21:51.075Z"
      },
      {
        "duration": 38,
        "start_time": "2023-01-12T13:22:46.051Z"
      },
      {
        "duration": 39,
        "start_time": "2023-01-12T13:23:03.371Z"
      },
      {
        "duration": 2624,
        "start_time": "2023-01-12T13:27:13.549Z"
      },
      {
        "duration": 2425,
        "start_time": "2023-01-12T13:29:30.442Z"
      },
      {
        "duration": 2507,
        "start_time": "2023-01-12T13:29:37.603Z"
      },
      {
        "duration": 2500,
        "start_time": "2023-01-12T13:30:34.809Z"
      },
      {
        "duration": 2516,
        "start_time": "2023-01-12T13:31:06.314Z"
      },
      {
        "duration": 2523,
        "start_time": "2023-01-12T13:31:12.327Z"
      },
      {
        "duration": 5,
        "start_time": "2023-01-12T13:34:54.941Z"
      },
      {
        "duration": 1341,
        "start_time": "2023-01-12T13:35:19.902Z"
      },
      {
        "duration": 10,
        "start_time": "2023-01-12T13:36:45.068Z"
      },
      {
        "duration": 12,
        "start_time": "2023-01-12T13:37:06.570Z"
      },
      {
        "duration": 13,
        "start_time": "2023-01-12T13:38:03.864Z"
      },
      {
        "duration": 12,
        "start_time": "2023-01-12T13:38:35.147Z"
      },
      {
        "duration": 11,
        "start_time": "2023-01-12T13:40:50.732Z"
      },
      {
        "duration": 12,
        "start_time": "2023-01-12T13:41:12.991Z"
      },
      {
        "duration": 16,
        "start_time": "2023-01-12T13:44:12.463Z"
      },
      {
        "duration": 9758,
        "start_time": "2023-01-12T13:44:20.716Z"
      },
      {
        "duration": 10250,
        "start_time": "2023-01-12T13:45:50.538Z"
      },
      {
        "duration": 9928,
        "start_time": "2023-01-12T13:46:22.996Z"
      },
      {
        "duration": 9414,
        "start_time": "2023-01-12T13:46:40.633Z"
      },
      {
        "duration": 9435,
        "start_time": "2023-01-12T13:46:51.097Z"
      },
      {
        "duration": 9481,
        "start_time": "2023-01-12T13:47:03.909Z"
      },
      {
        "duration": 9585,
        "start_time": "2023-01-12T13:47:14.575Z"
      },
      {
        "duration": 9633,
        "start_time": "2023-01-12T13:48:39.176Z"
      },
      {
        "duration": 9873,
        "start_time": "2023-01-12T13:49:01.549Z"
      },
      {
        "duration": 789,
        "start_time": "2023-01-12T13:53:46.630Z"
      },
      {
        "duration": 9,
        "start_time": "2023-01-12T14:01:17.373Z"
      },
      {
        "duration": 127,
        "start_time": "2023-01-12T14:01:33.571Z"
      },
      {
        "duration": 17806,
        "start_time": "2023-01-12T14:03:11.499Z"
      },
      {
        "duration": 13,
        "start_time": "2023-01-12T14:11:59.735Z"
      },
      {
        "duration": 5,
        "start_time": "2023-01-12T14:12:23.131Z"
      },
      {
        "duration": 12,
        "start_time": "2023-01-12T14:12:37.774Z"
      },
      {
        "duration": 3438,
        "start_time": "2023-01-12T14:12:54.822Z"
      },
      {
        "duration": 535,
        "start_time": "2023-01-12T14:16:21.305Z"
      },
      {
        "duration": 531,
        "start_time": "2023-01-12T14:17:05.696Z"
      },
      {
        "duration": 582,
        "start_time": "2023-01-12T14:18:57.318Z"
      },
      {
        "duration": 552,
        "start_time": "2023-01-12T14:19:02.760Z"
      },
      {
        "duration": 395,
        "start_time": "2023-01-12T14:19:34.326Z"
      },
      {
        "duration": 1528,
        "start_time": "2023-01-12T14:24:24.121Z"
      },
      {
        "duration": 41,
        "start_time": "2023-01-12T14:24:25.651Z"
      },
      {
        "duration": 25,
        "start_time": "2023-01-12T14:24:25.694Z"
      },
      {
        "duration": 4,
        "start_time": "2023-01-12T14:24:25.721Z"
      },
      {
        "duration": 20,
        "start_time": "2023-01-12T14:24:25.726Z"
      },
      {
        "duration": 45,
        "start_time": "2023-01-12T14:24:25.748Z"
      },
      {
        "duration": 7,
        "start_time": "2023-01-12T14:24:25.796Z"
      },
      {
        "duration": 10,
        "start_time": "2023-01-12T14:24:25.805Z"
      },
      {
        "duration": 33,
        "start_time": "2023-01-12T14:24:25.817Z"
      },
      {
        "duration": 37,
        "start_time": "2023-01-12T14:24:25.853Z"
      },
      {
        "duration": 11,
        "start_time": "2023-01-12T14:24:25.891Z"
      },
      {
        "duration": 5,
        "start_time": "2023-01-12T14:24:25.905Z"
      },
      {
        "duration": 41,
        "start_time": "2023-01-12T14:24:25.912Z"
      },
      {
        "duration": 86,
        "start_time": "2023-01-12T14:24:25.955Z"
      },
      {
        "duration": 822,
        "start_time": "2023-01-12T14:24:26.044Z"
      },
      {
        "duration": 40,
        "start_time": "2023-01-12T14:24:26.867Z"
      },
      {
        "duration": 2409,
        "start_time": "2023-01-12T14:24:26.909Z"
      },
      {
        "duration": 9456,
        "start_time": "2023-01-12T14:24:29.319Z"
      },
      {
        "duration": 3423,
        "start_time": "2023-01-12T14:24:38.777Z"
      },
      {
        "duration": 460,
        "start_time": "2023-01-12T14:24:42.201Z"
      },
      {
        "duration": 0,
        "start_time": "2023-01-12T14:24:42.663Z"
      },
      {
        "duration": 0,
        "start_time": "2023-01-12T14:24:42.664Z"
      },
      {
        "duration": 543,
        "start_time": "2023-01-12T14:25:44.543Z"
      },
      {
        "duration": 593,
        "start_time": "2023-01-12T14:25:55.981Z"
      },
      {
        "duration": 408,
        "start_time": "2023-01-12T14:25:58.721Z"
      },
      {
        "duration": 360,
        "start_time": "2023-01-12T14:26:06.049Z"
      },
      {
        "duration": 633,
        "start_time": "2023-01-12T14:27:21.922Z"
      },
      {
        "duration": 701,
        "start_time": "2023-01-12T14:28:01.987Z"
      },
      {
        "duration": 418,
        "start_time": "2023-01-12T14:28:50.073Z"
      },
      {
        "duration": 67,
        "start_time": "2023-01-13T09:24:36.972Z"
      },
      {
        "duration": 1853,
        "start_time": "2023-01-13T09:24:45.922Z"
      },
      {
        "duration": 96,
        "start_time": "2023-01-13T09:24:47.777Z"
      },
      {
        "duration": 46,
        "start_time": "2023-01-13T09:24:47.874Z"
      },
      {
        "duration": 4,
        "start_time": "2023-01-13T09:24:47.922Z"
      },
      {
        "duration": 18,
        "start_time": "2023-01-13T09:24:47.928Z"
      },
      {
        "duration": 48,
        "start_time": "2023-01-13T09:24:48.054Z"
      },
      {
        "duration": 9,
        "start_time": "2023-01-13T09:24:48.542Z"
      },
      {
        "duration": 6,
        "start_time": "2023-01-13T09:24:49.113Z"
      },
      {
        "duration": 23,
        "start_time": "2023-01-13T09:24:50.588Z"
      },
      {
        "duration": 25,
        "start_time": "2023-01-13T09:24:51.623Z"
      },
      {
        "duration": 24,
        "start_time": "2023-01-13T09:24:53.384Z"
      },
      {
        "duration": 4,
        "start_time": "2023-01-13T09:24:53.755Z"
      },
      {
        "duration": 26,
        "start_time": "2023-01-13T09:24:54.909Z"
      },
      {
        "duration": 37,
        "start_time": "2023-01-13T09:24:56.598Z"
      },
      {
        "duration": 914,
        "start_time": "2023-01-13T09:24:57.473Z"
      },
      {
        "duration": 66,
        "start_time": "2023-01-13T09:24:58.571Z"
      },
      {
        "duration": 6,
        "start_time": "2023-01-13T09:25:00.618Z"
      },
      {
        "duration": 104,
        "start_time": "2023-01-13T09:26:54.831Z"
      },
      {
        "duration": 5,
        "start_time": "2023-01-13T09:28:32.144Z"
      },
      {
        "duration": 79,
        "start_time": "2023-01-13T09:28:47.193Z"
      },
      {
        "duration": 96,
        "start_time": "2023-01-13T09:36:58.625Z"
      },
      {
        "duration": 59,
        "start_time": "2023-01-13T09:37:39.474Z"
      },
      {
        "duration": 5,
        "start_time": "2023-01-13T09:49:47.921Z"
      },
      {
        "duration": 12,
        "start_time": "2023-01-13T09:50:30.812Z"
      },
      {
        "duration": 12,
        "start_time": "2023-01-13T09:51:13.917Z"
      },
      {
        "duration": 11,
        "start_time": "2023-01-13T09:51:46.002Z"
      },
      {
        "duration": 24,
        "start_time": "2023-01-13T09:52:09.277Z"
      },
      {
        "duration": 62,
        "start_time": "2023-01-13T09:52:48.381Z"
      },
      {
        "duration": 5,
        "start_time": "2023-01-13T09:53:00.293Z"
      },
      {
        "duration": 32,
        "start_time": "2023-01-13T09:53:08.472Z"
      },
      {
        "duration": 22,
        "start_time": "2023-01-13T09:53:42.020Z"
      },
      {
        "duration": 39,
        "start_time": "2023-01-13T09:53:52.398Z"
      },
      {
        "duration": 115,
        "start_time": "2023-01-13T09:54:05.438Z"
      },
      {
        "duration": 4,
        "start_time": "2023-01-13T09:54:10.453Z"
      },
      {
        "duration": 46,
        "start_time": "2023-01-13T09:54:10.960Z"
      },
      {
        "duration": 27,
        "start_time": "2023-01-13T09:54:11.130Z"
      },
      {
        "duration": 5,
        "start_time": "2023-01-13T09:54:11.443Z"
      },
      {
        "duration": 12,
        "start_time": "2023-01-13T09:54:11.788Z"
      },
      {
        "duration": 37,
        "start_time": "2023-01-13T09:54:11.937Z"
      },
      {
        "duration": 10,
        "start_time": "2023-01-13T09:54:12.269Z"
      },
      {
        "duration": 4,
        "start_time": "2023-01-13T09:54:12.605Z"
      },
      {
        "duration": 10,
        "start_time": "2023-01-13T09:54:13.439Z"
      },
      {
        "duration": 19,
        "start_time": "2023-01-13T09:54:14.320Z"
      },
      {
        "duration": 12,
        "start_time": "2023-01-13T09:54:15.097Z"
      },
      {
        "duration": 4,
        "start_time": "2023-01-13T09:54:15.296Z"
      },
      {
        "duration": 24,
        "start_time": "2023-01-13T09:54:15.616Z"
      },
      {
        "duration": 34,
        "start_time": "2023-01-13T09:54:17.389Z"
      },
      {
        "duration": 795,
        "start_time": "2023-01-13T09:54:18.648Z"
      },
      {
        "duration": 54,
        "start_time": "2023-01-13T09:54:19.446Z"
      },
      {
        "duration": 2516,
        "start_time": "2023-01-13T09:54:20.193Z"
      },
      {
        "duration": 7,
        "start_time": "2023-01-13T09:54:22.711Z"
      },
      {
        "duration": 107,
        "start_time": "2023-01-13T09:54:22.720Z"
      },
      {
        "duration": 16,
        "start_time": "2023-01-13T09:54:24.993Z"
      },
      {
        "duration": 12,
        "start_time": "2023-01-13T09:55:00.813Z"
      },
      {
        "duration": 1572,
        "start_time": "2023-01-14T05:42:57.994Z"
      },
      {
        "duration": 76,
        "start_time": "2023-01-14T05:42:59.568Z"
      },
      {
        "duration": 25,
        "start_time": "2023-01-14T05:42:59.646Z"
      },
      {
        "duration": 5,
        "start_time": "2023-01-14T05:42:59.672Z"
      },
      {
        "duration": 13,
        "start_time": "2023-01-14T05:42:59.792Z"
      },
      {
        "duration": 38,
        "start_time": "2023-01-14T05:42:59.975Z"
      },
      {
        "duration": 8,
        "start_time": "2023-01-14T05:43:00.297Z"
      },
      {
        "duration": 6,
        "start_time": "2023-01-14T05:43:00.651Z"
      },
      {
        "duration": 11,
        "start_time": "2023-01-14T05:43:02.068Z"
      },
      {
        "duration": 20,
        "start_time": "2023-01-14T05:43:03.192Z"
      },
      {
        "duration": 11,
        "start_time": "2023-01-14T05:43:04.101Z"
      },
      {
        "duration": 3,
        "start_time": "2023-01-14T05:43:04.706Z"
      },
      {
        "duration": 23,
        "start_time": "2023-01-14T05:43:06.705Z"
      },
      {
        "duration": 34,
        "start_time": "2023-01-14T05:43:08.774Z"
      },
      {
        "duration": 670,
        "start_time": "2023-01-14T05:43:10.272Z"
      },
      {
        "duration": 37,
        "start_time": "2023-01-14T05:43:11.936Z"
      },
      {
        "duration": 2379,
        "start_time": "2023-01-14T05:43:14.003Z"
      },
      {
        "duration": 5,
        "start_time": "2023-01-14T05:43:16.384Z"
      },
      {
        "duration": 98,
        "start_time": "2023-01-14T05:43:16.891Z"
      },
      {
        "duration": 146,
        "start_time": "2023-01-14T05:43:18.159Z"
      },
      {
        "duration": 8764,
        "start_time": "2023-01-14T05:43:45.442Z"
      },
      {
        "duration": 14,
        "start_time": "2023-01-14T05:44:27.593Z"
      },
      {
        "duration": 21772,
        "start_time": "2023-01-14T05:44:36.149Z"
      },
      {
        "duration": 4,
        "start_time": "2023-01-14T05:45:15.203Z"
      },
      {
        "duration": 38,
        "start_time": "2023-01-14T05:45:15.985Z"
      },
      {
        "duration": 20,
        "start_time": "2023-01-14T05:45:16.180Z"
      },
      {
        "duration": 4,
        "start_time": "2023-01-14T05:45:16.767Z"
      },
      {
        "duration": 12,
        "start_time": "2023-01-14T05:45:17.351Z"
      },
      {
        "duration": 36,
        "start_time": "2023-01-14T05:45:17.617Z"
      },
      {
        "duration": 8,
        "start_time": "2023-01-14T05:45:18.128Z"
      },
      {
        "duration": 5,
        "start_time": "2023-01-14T05:45:18.546Z"
      },
      {
        "duration": 10,
        "start_time": "2023-01-14T05:45:19.470Z"
      },
      {
        "duration": 19,
        "start_time": "2023-01-14T05:45:20.783Z"
      },
      {
        "duration": 10,
        "start_time": "2023-01-14T05:45:21.332Z"
      },
      {
        "duration": 4,
        "start_time": "2023-01-14T05:45:21.548Z"
      },
      {
        "duration": 23,
        "start_time": "2023-01-14T05:45:22.367Z"
      },
      {
        "duration": 61,
        "start_time": "2023-01-14T05:45:25.017Z"
      },
      {
        "duration": 676,
        "start_time": "2023-01-14T05:45:28.681Z"
      },
      {
        "duration": 35,
        "start_time": "2023-01-14T05:45:29.670Z"
      },
      {
        "duration": 2299,
        "start_time": "2023-01-14T05:45:31.143Z"
      },
      {
        "duration": 6,
        "start_time": "2023-01-14T05:45:36.108Z"
      },
      {
        "duration": 73,
        "start_time": "2023-01-14T05:45:36.832Z"
      },
      {
        "duration": 8761,
        "start_time": "2023-01-14T05:45:37.668Z"
      },
      {
        "duration": 14,
        "start_time": "2023-01-14T05:45:46.431Z"
      },
      {
        "duration": 16,
        "start_time": "2023-01-14T05:46:06.147Z"
      },
      {
        "duration": 32,
        "start_time": "2023-01-14T05:46:11.473Z"
      },
      {
        "duration": 191,
        "start_time": "2023-01-14T05:46:15.759Z"
      },
      {
        "duration": 1584,
        "start_time": "2023-01-14T05:53:16.549Z"
      },
      {
        "duration": 56,
        "start_time": "2023-01-14T05:53:18.136Z"
      },
      {
        "duration": 37,
        "start_time": "2023-01-14T05:53:18.194Z"
      },
      {
        "duration": 6,
        "start_time": "2023-01-14T05:53:18.235Z"
      },
      {
        "duration": 21,
        "start_time": "2023-01-14T05:53:18.242Z"
      },
      {
        "duration": 68,
        "start_time": "2023-01-14T05:53:18.265Z"
      },
      {
        "duration": 12,
        "start_time": "2023-01-14T05:53:18.335Z"
      },
      {
        "duration": 6,
        "start_time": "2023-01-14T05:53:18.350Z"
      },
      {
        "duration": 63,
        "start_time": "2023-01-14T05:53:18.358Z"
      },
      {
        "duration": 40,
        "start_time": "2023-01-14T05:53:18.427Z"
      },
      {
        "duration": 70,
        "start_time": "2023-01-14T05:53:18.469Z"
      },
      {
        "duration": 11,
        "start_time": "2023-01-14T05:53:18.544Z"
      },
      {
        "duration": 41,
        "start_time": "2023-01-14T05:53:18.557Z"
      },
      {
        "duration": 70,
        "start_time": "2023-01-14T05:53:18.601Z"
      },
      {
        "duration": 976,
        "start_time": "2023-01-14T05:53:18.673Z"
      },
      {
        "duration": 60,
        "start_time": "2023-01-14T05:53:19.651Z"
      },
      {
        "duration": 2799,
        "start_time": "2023-01-14T05:53:19.715Z"
      },
      {
        "duration": 5,
        "start_time": "2023-01-14T05:53:22.516Z"
      },
      {
        "duration": 109,
        "start_time": "2023-01-14T05:53:22.524Z"
      },
      {
        "duration": 10076,
        "start_time": "2023-01-14T05:53:22.635Z"
      },
      {
        "duration": 15,
        "start_time": "2023-01-14T05:53:32.713Z"
      },
      {
        "duration": 6475,
        "start_time": "2023-01-14T05:53:32.730Z"
      },
      {
        "duration": 656,
        "start_time": "2023-01-14T05:53:39.206Z"
      },
      {
        "duration": 812,
        "start_time": "2023-01-14T05:53:39.863Z"
      },
      {
        "duration": 519,
        "start_time": "2023-01-14T05:53:40.684Z"
      },
      {
        "duration": 125,
        "start_time": "2023-01-14T05:54:37.275Z"
      },
      {
        "duration": 114,
        "start_time": "2023-01-14T05:54:56.632Z"
      },
      {
        "duration": 122,
        "start_time": "2023-01-14T05:55:14.772Z"
      },
      {
        "duration": 146,
        "start_time": "2023-01-14T05:56:05.346Z"
      },
      {
        "duration": 1464,
        "start_time": "2023-01-14T05:56:16.588Z"
      },
      {
        "duration": 44,
        "start_time": "2023-01-14T05:56:18.054Z"
      },
      {
        "duration": 29,
        "start_time": "2023-01-14T05:56:18.100Z"
      },
      {
        "duration": 7,
        "start_time": "2023-01-14T05:56:18.132Z"
      },
      {
        "duration": 43,
        "start_time": "2023-01-14T05:56:18.141Z"
      },
      {
        "duration": 69,
        "start_time": "2023-01-14T05:56:18.188Z"
      },
      {
        "duration": 9,
        "start_time": "2023-01-14T05:56:18.259Z"
      },
      {
        "duration": 31,
        "start_time": "2023-01-14T05:56:18.270Z"
      },
      {
        "duration": 38,
        "start_time": "2023-01-14T05:56:18.306Z"
      },
      {
        "duration": 45,
        "start_time": "2023-01-14T05:56:18.348Z"
      },
      {
        "duration": 37,
        "start_time": "2023-01-14T05:56:18.397Z"
      },
      {
        "duration": 38,
        "start_time": "2023-01-14T05:56:18.437Z"
      },
      {
        "duration": 78,
        "start_time": "2023-01-14T05:56:18.477Z"
      },
      {
        "duration": 121,
        "start_time": "2023-01-14T05:56:18.557Z"
      },
      {
        "duration": 873,
        "start_time": "2023-01-14T05:56:18.688Z"
      },
      {
        "duration": 45,
        "start_time": "2023-01-14T05:56:19.563Z"
      },
      {
        "duration": 2537,
        "start_time": "2023-01-14T05:56:19.610Z"
      },
      {
        "duration": 6,
        "start_time": "2023-01-14T05:56:22.149Z"
      },
      {
        "duration": 147,
        "start_time": "2023-01-14T05:56:22.156Z"
      },
      {
        "duration": 9181,
        "start_time": "2023-01-14T05:56:22.305Z"
      },
      {
        "duration": 15,
        "start_time": "2023-01-14T05:56:31.487Z"
      },
      {
        "duration": 126,
        "start_time": "2023-01-14T05:56:31.504Z"
      },
      {
        "duration": 6282,
        "start_time": "2023-01-14T05:56:31.631Z"
      },
      {
        "duration": 127,
        "start_time": "2023-01-14T05:56:37.915Z"
      },
      {
        "duration": 810,
        "start_time": "2023-01-14T05:56:38.044Z"
      },
      {
        "duration": 738,
        "start_time": "2023-01-14T05:56:38.856Z"
      },
      {
        "duration": 525,
        "start_time": "2023-01-14T05:56:39.596Z"
      },
      {
        "duration": 20,
        "start_time": "2023-01-14T06:01:08.834Z"
      },
      {
        "duration": 23652,
        "start_time": "2023-01-14T06:01:13.186Z"
      },
      {
        "duration": 19,
        "start_time": "2023-01-14T06:01:36.841Z"
      },
      {
        "duration": 1467,
        "start_time": "2023-01-14T06:02:20.536Z"
      },
      {
        "duration": 40,
        "start_time": "2023-01-14T06:02:22.005Z"
      },
      {
        "duration": 25,
        "start_time": "2023-01-14T06:02:22.047Z"
      },
      {
        "duration": 4,
        "start_time": "2023-01-14T06:02:22.074Z"
      },
      {
        "duration": 33,
        "start_time": "2023-01-14T06:02:22.079Z"
      },
      {
        "duration": 35,
        "start_time": "2023-01-14T06:02:22.114Z"
      },
      {
        "duration": 6,
        "start_time": "2023-01-14T06:02:22.151Z"
      },
      {
        "duration": 15,
        "start_time": "2023-01-14T06:02:22.159Z"
      },
      {
        "duration": 24,
        "start_time": "2023-01-14T06:02:22.176Z"
      },
      {
        "duration": 18,
        "start_time": "2023-01-14T06:02:22.203Z"
      },
      {
        "duration": 25,
        "start_time": "2023-01-14T06:02:22.223Z"
      },
      {
        "duration": 4,
        "start_time": "2023-01-14T06:02:22.249Z"
      },
      {
        "duration": 27,
        "start_time": "2023-01-14T06:02:22.255Z"
      },
      {
        "duration": 34,
        "start_time": "2023-01-14T06:02:22.292Z"
      },
      {
        "duration": 826,
        "start_time": "2023-01-14T06:02:22.382Z"
      },
      {
        "duration": 36,
        "start_time": "2023-01-14T06:02:23.209Z"
      },
      {
        "duration": 2468,
        "start_time": "2023-01-14T06:02:23.247Z"
      },
      {
        "duration": 6,
        "start_time": "2023-01-14T06:02:25.716Z"
      },
      {
        "duration": 107,
        "start_time": "2023-01-14T06:02:25.724Z"
      },
      {
        "duration": 9294,
        "start_time": "2023-01-14T06:02:25.834Z"
      },
      {
        "duration": 15,
        "start_time": "2023-01-14T06:02:35.129Z"
      },
      {
        "duration": 118,
        "start_time": "2023-01-14T06:02:35.146Z"
      },
      {
        "duration": 3507,
        "start_time": "2023-01-14T06:02:35.265Z"
      },
      {
        "duration": 128,
        "start_time": "2023-01-14T06:02:38.773Z"
      },
      {
        "duration": 591,
        "start_time": "2023-01-14T06:02:38.902Z"
      },
      {
        "duration": 564,
        "start_time": "2023-01-14T06:02:39.495Z"
      },
      {
        "duration": 363,
        "start_time": "2023-01-14T06:02:40.061Z"
      },
      {
        "duration": 1394,
        "start_time": "2023-01-14T06:04:29.036Z"
      },
      {
        "duration": 39,
        "start_time": "2023-01-14T06:04:30.432Z"
      },
      {
        "duration": 23,
        "start_time": "2023-01-14T06:04:30.473Z"
      },
      {
        "duration": 10,
        "start_time": "2023-01-14T06:04:30.498Z"
      },
      {
        "duration": 30,
        "start_time": "2023-01-14T06:04:30.510Z"
      },
      {
        "duration": 39,
        "start_time": "2023-01-14T06:04:30.541Z"
      },
      {
        "duration": 10,
        "start_time": "2023-01-14T06:04:30.582Z"
      },
      {
        "duration": 15,
        "start_time": "2023-01-14T06:04:30.593Z"
      },
      {
        "duration": 16,
        "start_time": "2023-01-14T06:04:30.610Z"
      },
      {
        "duration": 20,
        "start_time": "2023-01-14T06:04:30.629Z"
      },
      {
        "duration": 25,
        "start_time": "2023-01-14T06:04:30.651Z"
      },
      {
        "duration": 34,
        "start_time": "2023-01-14T06:04:30.678Z"
      },
      {
        "duration": 42,
        "start_time": "2023-01-14T06:04:30.714Z"
      },
      {
        "duration": 122,
        "start_time": "2023-01-14T06:04:30.758Z"
      },
      {
        "duration": 822,
        "start_time": "2023-01-14T06:04:30.883Z"
      },
      {
        "duration": 35,
        "start_time": "2023-01-14T06:04:31.707Z"
      },
      {
        "duration": 2385,
        "start_time": "2023-01-14T06:04:31.744Z"
      },
      {
        "duration": 5,
        "start_time": "2023-01-14T06:04:34.131Z"
      },
      {
        "duration": 98,
        "start_time": "2023-01-14T06:04:34.137Z"
      },
      {
        "duration": 8846,
        "start_time": "2023-01-14T06:04:34.237Z"
      },
      {
        "duration": 14,
        "start_time": "2023-01-14T06:04:43.085Z"
      },
      {
        "duration": 125,
        "start_time": "2023-01-14T06:04:43.100Z"
      },
      {
        "duration": 3239,
        "start_time": "2023-01-14T06:04:43.226Z"
      },
      {
        "duration": 15,
        "start_time": "2023-01-14T06:04:46.466Z"
      },
      {
        "duration": 118,
        "start_time": "2023-01-14T06:04:46.483Z"
      },
      {
        "duration": 551,
        "start_time": "2023-01-14T06:04:46.603Z"
      },
      {
        "duration": 546,
        "start_time": "2023-01-14T06:04:47.156Z"
      },
      {
        "duration": 361,
        "start_time": "2023-01-14T06:04:47.705Z"
      },
      {
        "duration": 1418,
        "start_time": "2023-01-14T06:22:40.942Z"
      },
      {
        "duration": 45,
        "start_time": "2023-01-14T06:22:42.363Z"
      },
      {
        "duration": 25,
        "start_time": "2023-01-14T06:22:42.410Z"
      },
      {
        "duration": 5,
        "start_time": "2023-01-14T06:22:42.436Z"
      },
      {
        "duration": 16,
        "start_time": "2023-01-14T06:22:42.444Z"
      },
      {
        "duration": 44,
        "start_time": "2023-01-14T06:22:42.462Z"
      },
      {
        "duration": 7,
        "start_time": "2023-01-14T06:22:42.508Z"
      },
      {
        "duration": 8,
        "start_time": "2023-01-14T06:22:42.517Z"
      },
      {
        "duration": 15,
        "start_time": "2023-01-14T06:22:42.527Z"
      },
      {
        "duration": 39,
        "start_time": "2023-01-14T06:22:42.544Z"
      },
      {
        "duration": 13,
        "start_time": "2023-01-14T06:22:42.587Z"
      },
      {
        "duration": 8,
        "start_time": "2023-01-14T06:22:42.602Z"
      },
      {
        "duration": 26,
        "start_time": "2023-01-14T06:22:42.612Z"
      },
      {
        "duration": 56,
        "start_time": "2023-01-14T06:22:42.641Z"
      },
      {
        "duration": 900,
        "start_time": "2023-01-14T06:22:42.699Z"
      },
      {
        "duration": 36,
        "start_time": "2023-01-14T06:22:43.601Z"
      },
      {
        "duration": 2444,
        "start_time": "2023-01-14T06:22:43.640Z"
      },
      {
        "duration": 8,
        "start_time": "2023-01-14T06:22:46.087Z"
      },
      {
        "duration": 123,
        "start_time": "2023-01-14T06:22:46.097Z"
      },
      {
        "duration": 9277,
        "start_time": "2023-01-14T06:22:46.221Z"
      },
      {
        "duration": 15,
        "start_time": "2023-01-14T06:22:55.500Z"
      },
      {
        "duration": 125,
        "start_time": "2023-01-14T06:22:55.516Z"
      },
      {
        "duration": 3503,
        "start_time": "2023-01-14T06:22:55.643Z"
      },
      {
        "duration": 16,
        "start_time": "2023-01-14T06:22:59.148Z"
      },
      {
        "duration": 133,
        "start_time": "2023-01-14T06:22:59.166Z"
      },
      {
        "duration": 595,
        "start_time": "2023-01-14T06:22:59.301Z"
      },
      {
        "duration": 556,
        "start_time": "2023-01-14T06:22:59.898Z"
      },
      {
        "duration": 366,
        "start_time": "2023-01-14T06:23:00.455Z"
      },
      {
        "duration": 169,
        "start_time": "2023-01-14T06:24:26.071Z"
      },
      {
        "duration": 47,
        "start_time": "2023-01-14T06:25:53.428Z"
      },
      {
        "duration": 50,
        "start_time": "2023-01-14T06:27:26.023Z"
      },
      {
        "duration": 66,
        "start_time": "2023-01-14T06:27:32.968Z"
      },
      {
        "duration": 51,
        "start_time": "2023-01-14T06:27:44.753Z"
      },
      {
        "duration": 59,
        "start_time": "2023-01-14T06:28:00.246Z"
      },
      {
        "duration": 55,
        "start_time": "2023-01-14T06:28:30.662Z"
      },
      {
        "duration": 57,
        "start_time": "2023-01-14T06:29:22.369Z"
      },
      {
        "duration": 41,
        "start_time": "2023-01-14T06:30:14.077Z"
      },
      {
        "duration": 3483,
        "start_time": "2023-01-14T06:34:05.259Z"
      },
      {
        "duration": 1405,
        "start_time": "2023-01-14T06:34:20.861Z"
      },
      {
        "duration": 40,
        "start_time": "2023-01-14T06:34:22.268Z"
      },
      {
        "duration": 25,
        "start_time": "2023-01-14T06:34:22.309Z"
      },
      {
        "duration": 5,
        "start_time": "2023-01-14T06:34:22.337Z"
      },
      {
        "duration": 28,
        "start_time": "2023-01-14T06:34:22.344Z"
      },
      {
        "duration": 35,
        "start_time": "2023-01-14T06:34:22.373Z"
      },
      {
        "duration": 7,
        "start_time": "2023-01-14T06:34:22.411Z"
      },
      {
        "duration": 13,
        "start_time": "2023-01-14T06:34:22.420Z"
      },
      {
        "duration": 27,
        "start_time": "2023-01-14T06:34:22.435Z"
      },
      {
        "duration": 20,
        "start_time": "2023-01-14T06:34:22.464Z"
      },
      {
        "duration": 12,
        "start_time": "2023-01-14T06:34:22.486Z"
      },
      {
        "duration": 8,
        "start_time": "2023-01-14T06:34:22.500Z"
      },
      {
        "duration": 34,
        "start_time": "2023-01-14T06:34:22.510Z"
      },
      {
        "duration": 133,
        "start_time": "2023-01-14T06:34:22.545Z"
      },
      {
        "duration": 791,
        "start_time": "2023-01-14T06:34:22.680Z"
      },
      {
        "duration": 37,
        "start_time": "2023-01-14T06:34:23.472Z"
      },
      {
        "duration": 2319,
        "start_time": "2023-01-14T06:34:23.510Z"
      },
      {
        "duration": 7,
        "start_time": "2023-01-14T06:34:25.831Z"
      },
      {
        "duration": 126,
        "start_time": "2023-01-14T06:34:25.839Z"
      },
      {
        "duration": 8991,
        "start_time": "2023-01-14T06:34:25.966Z"
      },
      {
        "duration": 20,
        "start_time": "2023-01-14T06:34:34.959Z"
      },
      {
        "duration": 113,
        "start_time": "2023-01-14T06:34:34.981Z"
      },
      {
        "duration": 3118,
        "start_time": "2023-01-14T06:34:35.096Z"
      },
      {
        "duration": 3316,
        "start_time": "2023-01-14T06:34:38.216Z"
      },
      {
        "duration": 14,
        "start_time": "2023-01-14T06:34:41.534Z"
      },
      {
        "duration": 140,
        "start_time": "2023-01-14T06:34:41.550Z"
      },
      {
        "duration": 625,
        "start_time": "2023-01-14T06:34:41.693Z"
      },
      {
        "duration": 563,
        "start_time": "2023-01-14T06:34:42.322Z"
      },
      {
        "duration": 341,
        "start_time": "2023-01-14T06:34:42.887Z"
      }
    ],
    "kernelspec": {
      "display_name": "Python 3 (ipykernel)",
      "language": "python",
      "name": "python3"
    },
    "language_info": {
      "codemirror_mode": {
        "name": "ipython",
        "version": 3
      },
      "file_extension": ".py",
      "mimetype": "text/x-python",
      "name": "python",
      "nbconvert_exporter": "python",
      "pygments_lexer": "ipython3",
      "version": "3.9.5"
    },
    "toc": {
      "base_numbering": 1,
      "nav_menu": {},
      "number_sections": true,
      "sideBar": true,
      "skip_h1_title": true,
      "title_cell": "Содержание",
      "title_sidebar": "Contents",
      "toc_cell": true,
      "toc_position": {
        "height": "calc(100% - 180px)",
        "left": "10px",
        "top": "150px",
        "width": "165px"
      },
      "toc_section_display": true,
      "toc_window_display": false
    },
    "colab": {
      "provenance": []
    }
  },
  "nbformat": 4,
  "nbformat_minor": 0
}